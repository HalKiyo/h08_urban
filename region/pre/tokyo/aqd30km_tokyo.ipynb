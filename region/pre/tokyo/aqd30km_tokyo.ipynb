{
 "cells": [
  {
   "cell_type": "code",
   "execution_count": 1,
   "id": "a73867ae-1733-4fbb-92f0-25be5a353a4f",
   "metadata": {},
   "outputs": [],
   "source": [
    "import numpy as np\n",
    "import matplotlib.pyplot as plt\n",
    "import cartopy.crs as ccrs"
   ]
  },
  {
   "cell_type": "code",
   "execution_count": 2,
   "id": "f7c5b37f-93f6-4448-b95c-4a7dce51cb0f",
   "metadata": {},
   "outputs": [],
   "source": [
    "#\n",
    "tag = '.tk5'\n",
    "city_num = 1\n",
    "#\n",
    "resolution = 12\n",
    "#\n",
    "SUF = '.gl5'\n",
    "dtype = 'float32'\n",
    "gl5shape = (2160, 4320)\n",
    "#\n",
    "left = 138\n",
    "right = 141\n",
    "bottom = 34\n",
    "top = 38\n",
    "#\n",
    "nx, ny = (right - left)*resolution, (top - bottom)*resolution\n",
    "rgnshape = (ny, nx)\n",
    "img_extent = (left, right, bottom, top)\n",
    "#\n",
    "upperindex = (90-top)*resolution\n",
    "lowerindex = (90-bottom)*resolution\n",
    "leftindex = (180+left)*resolution\n",
    "rightindex = (180+right)*resolution\n",
    "#\n",
    "glbdir = '/mnt/c/Users/tsimk/Downloads/dotfiles/h08/global_city'\n",
    "rgndir = f\"/mnt/c/Users/tsimk/Downloads/dotfiles/h08/region\""
   ]
  },
  {
   "cell_type": "code",
   "execution_count": 8,
   "id": "a16aca3f-ceb7-4323-b0f9-5279cd6c6e94",
   "metadata": {},
   "outputs": [],
   "source": [
    "ctyint_load = f\"{glbdir}/dat/cty_int_/30km_samebasin/city_{city_num:08}{SUF}\"\n",
    "load_list = [ctyint_load]\n",
    "\n",
    "ctyint_save = f\"{rgndir}/dat/cty_int_/30km_samebasin/city_{city_num:08}{tag}\"\n",
    "save_list = [ctyint_save]"
   ]
  },
  {
   "cell_type": "code",
   "execution_count": 9,
   "id": "6e417dbe-ee28-4ef5-b0ef-03bec4675a22",
   "metadata": {},
   "outputs": [
    {
     "name": "stdout",
     "output_type": "stream",
     "text": [
      "/mnt/c/Users/tsimk/Downloads/dotfiles/h08/region/dat/cty_int_/30km_samebasin/city_00000001.tk5 saved\n"
     ]
    }
   ],
   "source": [
    "# save the files\n",
    "p0mis = 0\n",
    "\n",
    "save_flag = True\n",
    "if save_flag is True:\n",
    "    for loadfile, savefile in zip(load_list, save_list):\n",
    "        data = np.fromfile(loadfile, dtype=dtype).reshape(gl5shape)\n",
    "        region = data[upperindex:lowerindex, leftindex:rightindex]\n",
    "        region.astype(np.float32).tofile(savefile)\n",
    "        print(f\"{savefile} saved\")"
   ]
  },
  {
   "cell_type": "code",
   "execution_count": 10,
   "id": "cc6401ca-0a77-4a5e-b398-62a409248b03",
   "metadata": {},
   "outputs": [
    {
     "data": {
      "image/png": "[encoded data removed]",
      "text/plain": [
       "<Figure size 640x480 with 1 Axes>"
      ]
     },
     "metadata": {},
     "output_type": "display_data"
    }
   ],
   "source": [
    "# view the files\n",
    "tmppath = f\"{rgndir}/dat/cty_int_/30km_samebasin/city_{city_num:08}{tag}\"\n",
    "tmpimg = np.fromfile(tmppath, dtype=dtype).reshape(rgnshape)\n",
    "tmpnew = np.ma.masked_where(tmpimg<=0, tmpimg)\n",
    "plt.imshow(tmpnew)\n",
    "plt.show()"
   ]
  },
  {
   "cell_type": "code",
   "execution_count": null,
   "id": "2f8a8192-83ad-49e8-a8a0-63a5c4bf4529",
   "metadata": {},
   "outputs": [],
   "source": []
  }
 ],
 "metadata": {
  "kernelspec": {
   "display_name": "Python 3 (ipykernel)",
   "language": "python",
   "name": "python3"
  },
  "language_info": {
   "codemirror_mode": {
    "name": "ipython",
    "version": 3
   },
   "file_extension": ".py",
   "mimetype": "text/x-python",
   "name": "python",
   "nbconvert_exporter": "python",
   "pygments_lexer": "ipython3",
   "version": "3.10.12"
  }
 },
 "nbformat": 4,
 "nbformat_minor": 5
}
