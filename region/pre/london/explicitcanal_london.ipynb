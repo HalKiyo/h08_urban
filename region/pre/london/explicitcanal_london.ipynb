{
 "cells": [
  {
   "cell_type": "code",
   "execution_count": 1,
   "id": "a73867ae-1733-4fbb-92f0-25be5a353a4f",
   "metadata": {},
   "outputs": [],
   "source": [
    "import os\n",
    "import numpy as np\n",
    "import matplotlib.pyplot as plt\n",
    "import cartopy.crs as ccrs\n",
    "import pprint"
   ]
  },
  {
   "cell_type": "code",
   "execution_count": 2,
   "id": "f7c5b37f-93f6-4448-b95c-4a7dce51cb0f",
   "metadata": {},
   "outputs": [],
   "source": [
    "#\n",
    "tag = '.ln5'\n",
    "city_num = 38\n",
    "#\n",
    "resolution = 12\n",
    "POP='vld_cty_'\n",
    "#\n",
    "SUF = '.gl5'\n",
    "dtype = 'float32'\n",
    "gl5shape = (2160, 4320)\n",
    "#\n",
    "left = -3\n",
    "right = 1\n",
    "bottom = 50\n",
    "top = 53\n",
    "#\n",
    "nx, ny = (right - left)*resolution, (top - bottom)*resolution\n",
    "rgnshape = (ny, nx)\n",
    "img_extent = (left, right, bottom, top)\n",
    "#\n",
    "upperindex = (90-top)*resolution\n",
    "lowerindex = (90-bottom)*resolution\n",
    "leftindex = (180+left)*resolution\n",
    "rightindex = (180+right)*resolution\n",
    "#\n",
    "glbdir = '/mnt/c/Users/tsimk/Downloads/dotfiles/h08/global_city'\n",
    "rgndir = f\"/mnt/c/Users/tsimk/Downloads/dotfiles/h08/region\""
   ]
  },
  {
   "cell_type": "code",
   "execution_count": 3,
   "id": "8d2614c5-bff2-4b0e-a912-7f14e7eaf60c",
   "metadata": {},
   "outputs": [],
   "source": [
    "# original\n",
    "# map/org/Aoba/existing_origin.gl5\n",
    "# map/org/Aoba/existing_destination_1.gl5\n",
    "#\n",
    "# prep_map_lcan_gl5.sh\n",
    "# map/out/can_org_/canorg.x.within.1.CAMA.gl5\n",
    "# map/out/can_org_/canorg.y.within.1.CAMA.gl5\n",
    "# map/out/can_org_/canorg.l.within.1.CAMA.gl5\n",
    "# map/out/can_des_/candes.l.within.1.CAMA.bin\n",
    "# map/out/can_sco_/cansco.within.1.CAMA.gl5\n",
    "# map/out/can_cnt_/cancnt.within.1.CAMA.gl5\n",
    "#\n",
    "# prep_map_K14_gl5.sh\n",
    "# map/out/can_org_/canorg.l.canal.ext.gl5\n",
    "# map/out/can_des_/canorg.l.canal.ext.bin\n",
    "# map/out/can_org_/canorg.l.merged.ext.1.CAMA.gl5\n",
    "# map/out/can_des_/candes.l.merged.ext.1.CAMA.bin"
   ]
  },
  {
   "cell_type": "code",
   "execution_count": 4,
   "id": "2d818eab-a463-4f19-a5fe-082370252468",
   "metadata": {
    "scrolled": true
   },
   "outputs": [
    {
     "data": {
      "image/png": "[encoded data removed]",
      "text/plain": [
       "<Figure size 640x480 with 1 Axes>"
      ]
     },
     "metadata": {},
     "output_type": "display_data"
    },
    {
     "data": {
      "image/png": "[encoded data removed]",
      "text/plain": [
       "<Figure size 640x480 with 1 Axes>"
      ]
     },
     "metadata": {},
     "output_type": "display_data"
    }
   ],
   "source": [
    "# original\n",
    "origin_path = f'{glbdir}/dat/can_ext_/existing_origin{SUF}'\n",
    "path_list = [origin_path]\n",
    "\n",
    "# destination\n",
    "for i in range(1, 5):\n",
    "    destination_path = f'{glbdir}/dat/can_ext_/existing_destination_{i}{SUF}'\n",
    "    path_list.append(destination_path)\n",
    "\n",
    "origin = np.fromfile(origin_path, dtype=dtype).reshape(gl5shape)\n",
    "org_cropped = origin[upperindex:lowerindex, leftindex:rightindex]\n",
    "plt.imshow(org_cropped, cmap='prism_r')\n",
    "plt.show()\n",
    "\n",
    "maindes_path = f'{glbdir}/dat/can_ext_/existing_destination_1{SUF}'\n",
    "destiantion = np.fromfile(maindes_path, dtype=dtype).reshape(gl5shape)\n",
    "des_cropped = destiantion[upperindex:lowerindex, leftindex:rightindex]\n",
    "plt.imshow(des_cropped, cmap='prism_r')\n",
    "plt.show()"
   ]
  },
  {
   "cell_type": "code",
   "execution_count": 5,
   "id": "1892cd8b-1165-4a2b-8786-5b7962c43308",
   "metadata": {},
   "outputs": [],
   "source": [
    "# not needed necessarily"
   ]
  },
  {
   "cell_type": "code",
   "execution_count": 12,
   "id": "6e417dbe-ee28-4ef5-b0ef-03bec4675a22",
   "metadata": {},
   "outputs": [],
   "source": [
    "# save the file\n",
    "origin_save_path = f'{rgndir}/dat/can_ext_/existing_origin{tag}'\n",
    "save_path_list = [origin_save_path]\n",
    "# destination\n",
    "for i in range(1, 5):\n",
    "    destination_path = f'{rgndir}/dat/can_ext_/existing_destination_{i}{tag}'\n",
    "    save_path_list.append(destination_path)\n",
    "\n",
    "save_flag = False\n",
    "if save_flag is True:\n",
    "    for file_path, save_path in zip(path_list, save_path_list):\n",
    "        loadfile = file_path\n",
    "        savefile = save_path\n",
    "        print(loadfile)\n",
    "        data = np.fromfile(loadfile, dtype=dtype).reshape(gl5shape)\n",
    "        region = data[upperindex:lowerindex, leftindex:rightindex]\n",
    "        region.astype(np.float32).tofile(savefile)\n",
    "        print(f\"{savefile} is saved\")"
   ]
  },
  {
   "cell_type": "code",
   "execution_count": null,
   "id": "e0c617d4-89ab-4599-ae9a-7018e8f52364",
   "metadata": {},
   "outputs": [],
   "source": []
  }
 ],
 "metadata": {
  "kernelspec": {
   "display_name": "Python 3 (ipykernel)",
   "language": "python",
   "name": "python3"
  },
  "language_info": {
   "codemirror_mode": {
    "name": "ipython",
    "version": 3
   },
   "file_extension": ".py",
   "mimetype": "text/x-python",
   "name": "python",
   "nbconvert_exporter": "python",
   "pygments_lexer": "ipython3",
   "version": "3.10.12"
  }
 },
 "nbformat": 4,
 "nbformat_minor": 5
}
