{
 "cells": [
  {
   "cell_type": "code",
   "execution_count": 4,
   "id": "653d9f24-06cd-4464-a3d0-7d6595c13242",
   "metadata": {},
   "outputs": [
    {
     "data": {
      "image/png": "[encoded data removed]",
      "text/plain": [
       "<Figure size 640x480 with 1 Axes>"
      ]
     },
     "metadata": {},
     "output_type": "display_data"
    }
   ],
   "source": [
    "import numpy as np\n",
    "import matplotlib.pyplot as plt\n",
    "#\n",
    "left = -47\n",
    "right = -40\n",
    "bottom = -24\n",
    "top = -20\n",
    "#\n",
    "resolution=12\n",
    "nx, ny = (right - left)*resolution, (top - bottom)*resolution\n",
    "rgnshape = (ny, nx)\n",
    "#\n",
    "path = '/mnt/c/Users/tsimk/Downloads/H08_20230612/riv/out/riv_out_/W5E5LR__00000000.ro5'\n",
    "data = np.fromfile(path, dtype='float32')\n",
    "data_shaped = data.reshape(rgnshape)\n",
    "data_masked = np.ma.masked_where(data_shaped==0, data_shaped)\n",
    "plt.imshow(data_masked)\n",
    "plt.show()"
   ]
  },
  {
   "cell_type": "code",
   "execution_count": null,
   "id": "b5abdaba-f89d-422a-ab15-e328de5de15e",
   "metadata": {},
   "outputs": [],
   "source": [
    "# htid $ARG l 766\n",
    "# >>> -46.2083321 -20.7916660 10 10"
   ]
  },
  {
   "cell_type": "code",
   "execution_count": 12,
   "id": "bcba3eb6-ccc7-41d7-8d65-68fce4adfb99",
   "metadata": {},
   "outputs": [
    {
     "data": {
      "text/plain": [
       "array([   0.   ,    0.   ,    0.   ,    0.   , 2017.644], dtype=float32)"
      ]
     },
     "execution_count": 12,
     "metadata": {},
     "output_type": "execute_result"
    }
   ],
   "source": [
    "data_shaped[9,50:55]"
   ]
  },
  {
   "cell_type": "code",
   "execution_count": null,
   "id": "77c7a995-5507-4332-acba-80e46004f64e",
   "metadata": {},
   "outputs": [],
   "source": []
  }
 ],
 "metadata": {
  "kernelspec": {
   "display_name": "Python 3 (ipykernel)",
   "language": "python",
   "name": "python3"
  },
  "language_info": {
   "codemirror_mode": {
    "name": "ipython",
    "version": 3
   },
   "file_extension": ".py",
   "mimetype": "text/x-python",
   "name": "python",
   "nbconvert_exporter": "python",
   "pygments_lexer": "ipython3",
   "version": "3.10.12"
  }
 },
 "nbformat": 4,
 "nbformat_minor": 5
}
