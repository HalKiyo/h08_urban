{
 "cells": [
  {
   "cell_type": "code",
   "execution_count": 10,
   "id": "343df1fb-1e83-484b-8daf-c0d8db4dcb23",
   "metadata": {
    "scrolled": true
   },
   "outputs": [
    {
     "name": "stdout",
     "output_type": "stream",
     "text": [
      "target_city: 14\n",
      "target_key_list: ['23.0']\n"
     ]
    }
   ],
   "source": [
    "####################################################################################\n",
    "# This test code shows how new_basin_cities looks like\n",
    "# basin at each city\n",
    "distance=100\n",
    "min_of_cities=0\n",
    "max_of_basinnum=1000\n",
    "target_city = 14\n",
    "####################################################################################\n",
    "h08dir = '/mnt/c/Users/tsimk/Downloads/dotfiles/h08'\n",
    "basin_cities_path = f'{h08dir}/global_city/dat/riv_num_/basin_to_cities_{distance}km.json'\n",
    "\n",
    "with open(basin_cities_path, 'r') as json_file:\n",
    "    tmp = json.load(json_file)\n",
    "    \n",
    "sorted_keys = sorted(tmp.keys(), key=lambda k: float(k))\n",
    "\n",
    "target_key_list = []\n",
    "\n",
    "for key in sorted_keys:\n",
    "    value = tmp[key]\n",
    "    if min_of_cities < len(value) and float(key) < max_of_basinnum:\n",
    "        for i in value:\n",
    "            if int(float(i)) == target_city:\n",
    "                target_key_list.append(key)\n",
    "        #print(f'key{key}, len: {len(value)}')\n",
    "        #print(value)\n",
    "        #print('-----------------------------------------')\n",
    "print(f'target_city: {target_city}')\n",
    "print(f'target_key_list: {target_key_list}')"
   ]
  },
  {
   "cell_type": "code",
   "execution_count": 11,
   "id": "59fb0575-31f6-4701-9c66-a28a95579a6e",
   "metadata": {},
   "outputs": [
    {
     "name": "stdout",
     "output_type": "stream",
     "text": [
      "target_key: 23.0\n",
      "value: ['14', '33', '111', '146', '221', '260', '272', '276', '284', '296', '354', '370', '466', '536', '578', '715', '764', '813', '849', '1091', '1103', '1196', '1220', '1295', '1405', '1430', '1519', '1535', '1536', '1563', '1582', '1636', '1689']\n"
     ]
    }
   ],
   "source": [
    "target_key = '23.0'\n",
    "value = tmp[target_key]\n",
    "print(f'target_key: {target_key}')\n",
    "print(f'value: {value}')"
   ]
  },
  {
   "cell_type": "code",
   "execution_count": 12,
   "id": "6614385f-4e9a-4234-89b6-472b98054b81",
   "metadata": {},
   "outputs": [
    {
     "name": "stdout",
     "output_type": "stream",
     "text": [
      "rivnum_key_index: 15\n"
     ]
    }
   ],
   "source": [
    "keys_lst = list(tmp.keys())\n",
    "key_index = keys_lst.index(target_key)\n",
    "print(f'rivnum_key_index: {key_index}')"
   ]
  },
  {
   "cell_type": "code",
   "execution_count": 13,
   "id": "a256fe7e-0e1e-4881-b0b2-e50399085707",
   "metadata": {},
   "outputs": [
    {
     "data": {
      "text/html": [
       "<div>\n",
       "<style scoped>\n",
       "    .dataframe tbody tr th:only-of-type {\n",
       "        vertical-align: middle;\n",
       "    }\n",
       "\n",
       "    .dataframe tbody tr th {\n",
       "        vertical-align: top;\n",
       "    }\n",
       "\n",
       "    .dataframe thead th {\n",
       "        text-align: right;\n",
       "    }\n",
       "</style>\n",
       "<table border=\"1\" class=\"dataframe\">\n",
       "  <thead>\n",
       "    <tr style=\"text-align: right;\">\n",
       "      <th></th>\n",
       "      <th>index</th>\n",
       "      <th>flag</th>\n",
       "      <th>rate</th>\n",
       "      <th>wup</th>\n",
       "      <th>pop</th>\n",
       "      <th>ava</th>\n",
       "      <th>mpcy</th>\n",
       "      <th>potential</th>\n",
       "      <th>region</th>\n",
       "      <th>country</th>\n",
       "      <th>cityname</th>\n",
       "      <th>12region</th>\n",
       "    </tr>\n",
       "  </thead>\n",
       "  <tbody>\n",
       "    <tr>\n",
       "      <th>13</th>\n",
       "      <td>14</td>\n",
       "      <td>False</td>\n",
       "      <td>0.92072</td>\n",
       "      <td>12611.924</td>\n",
       "      <td>11612047.0</td>\n",
       "      <td>4.488725e+08</td>\n",
       "      <td>38.655756</td>\n",
       "      <td>37.0</td>\n",
       "      <td>southern asia</td>\n",
       "      <td>Pakistan</td>\n",
       "      <td>Karachi</td>\n",
       "      <td>South Asia</td>\n",
       "    </tr>\n",
       "  </tbody>\n",
       "</table>\n",
       "</div>"
      ],
      "text/plain": [
       "    index   flag     rate        wup         pop           ava       mpcy  \\\n",
       "13     14  False  0.92072  12611.924  11612047.0  4.488725e+08  38.655756   \n",
       "\n",
       "    potential         region   country cityname    12region  \n",
       "13       37.0  southern asia  Pakistan  Karachi  South Asia  "
      ]
     },
     "metadata": {},
     "output_type": "display_data"
    }
   ],
   "source": [
    "import pandas as pd\n",
    "mcy_pop_water_path = '/mnt/c/Users/tsimk/Downloads/dotfiles/h08/global_city/dat/cty_lst_/gpw4/mcy_pop_water_12region.txt'\n",
    "column_names = ['index', 'flag', 'rate', 'wup', 'pop', 'ava', 'mpcy', 'potential', 'region', 'country', 'cityname', '12region']\n",
    "df = pd.read_csv(mcy_pop_water_path, delimiter='|', header=None, names=column_names)\n",
    "df_filtered_test = df[df['index'] == target_city]\n",
    "display(df_filtered_test.head())"
   ]
  },
  {
   "cell_type": "code",
   "execution_count": null,
   "id": "4e75552b-0f2a-4a12-abb3-ac4133eb384d",
   "metadata": {},
   "outputs": [],
   "source": []
  }
 ],
 "metadata": {
  "kernelspec": {
   "display_name": "Python 3 (ipykernel)",
   "language": "python",
   "name": "python3"
  },
  "language_info": {
   "codemirror_mode": {
    "name": "ipython",
    "version": 3
   },
   "file_extension": ".py",
   "mimetype": "text/x-python",
   "name": "python",
   "nbconvert_exporter": "python",
   "pygments_lexer": "ipython3",
   "version": "3.10.12"
  }
 },
 "nbformat": 4,
 "nbformat_minor": 5
}
