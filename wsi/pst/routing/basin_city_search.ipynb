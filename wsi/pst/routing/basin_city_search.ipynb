{
 "cells": [
  {
   "cell_type": "code",
   "execution_count": 17,
   "id": "343df1fb-1e83-484b-8daf-c0d8db4dcb23",
   "metadata": {
    "scrolled": true
   },
   "outputs": [
    {
     "name": "stdout",
     "output_type": "stream",
     "text": [
      "target_city: 14\n",
      "target_key_list: ['23.0']\n"
     ]
    }
   ],
   "source": [
    "####################################################################################\n",
    "# This test code shows how new_basin_cities looks like\n",
    "# basin at each city\n",
    "distance=100\n",
    "min_of_cities=0\n",
    "max_of_basinnum=1000\n",
    "target_city = 14\n",
    "####################################################################################\n",
    "\n",
    "h08dir = '/mnt/c/Users/tsimk/Downloads/dotfiles/h08'\n",
    "basin_cities_path = f'{h08dir}/global_city/dat/riv_num_/basin_to_cities_{distance}km.json'\n",
    "\n",
    "with open(basin_cities_path, 'r') as json_file:\n",
    "    tmp = json.load(json_file)\n",
    "    \n",
    "sorted_keys = sorted(tmp.keys(), key=lambda k: float(k))\n",
    "\n",
    "target_key_list = []\n",
    "\n",
    "for key in sorted_keys:\n",
    "    value = tmp[key]\n",
    "    if min_of_cities < len(value) and float(key) < max_of_basinnum:\n",
    "        for i in value:\n",
    "            if int(float(i)) == target_city:\n",
    "                target_key_list.append(key)\n",
    "                \n",
    "print(f'target_city: {target_city}')\n",
    "print(f'target_key_list: {target_key_list}')"
   ]
  },
  {
   "cell_type": "code",
   "execution_count": 18,
   "id": "59fb0575-31f6-4701-9c66-a28a95579a6e",
   "metadata": {},
   "outputs": [
    {
     "name": "stdout",
     "output_type": "stream",
     "text": [
      "target_key: 23.0\n",
      "value: ['14', '33', '111', '146', '221', '260', '272', '276', '284', '296', '354', '370', '466', '536', '578', '715', '764', '813', '849', '1091', '1103', '1196', '1220', '1295', '1405', '1430', '1519', '1535', '1536', '1563', '1582', '1636', '1689']\n"
     ]
    }
   ],
   "source": [
    "# This test code shows how cities in target_basin looks like\n",
    "\n",
    "target_key = '23.0'\n",
    "value = tmp[target_key]\n",
    "print(f'target_key: {target_key}')\n",
    "print(f'value: {value}')"
   ]
  },
  {
   "cell_type": "code",
   "execution_count": 19,
   "id": "6614385f-4e9a-4234-89b6-472b98054b81",
   "metadata": {},
   "outputs": [
    {
     "name": "stdout",
     "output_type": "stream",
     "text": [
      "rivnum_key_index: 15\n"
     ]
    }
   ],
   "source": [
    "# This test code shows riv_num index of tmp dictionary\n",
    "\n",
    "keys_lst = list(tmp.keys())\n",
    "key_index = keys_lst.index(target_key)\n",
    "print(f'rivnum_key_index: {key_index}')"
   ]
  },
  {
   "cell_type": "code",
   "execution_count": 20,
   "id": "a256fe7e-0e1e-4881-b0b2-e50399085707",
   "metadata": {},
   "outputs": [
    {
     "data": {
      "text/html": [
       "<div>\n",
       "<style scoped>\n",
       "    .dataframe tbody tr th:only-of-type {\n",
       "        vertical-align: middle;\n",
       "    }\n",
       "\n",
       "    .dataframe tbody tr th {\n",
       "        vertical-align: top;\n",
       "    }\n",
       "\n",
       "    .dataframe thead th {\n",
       "        text-align: right;\n",
       "    }\n",
       "</style>\n",
       "<table border=\"1\" class=\"dataframe\">\n",
       "  <thead>\n",
       "    <tr style=\"text-align: right;\">\n",
       "      <th></th>\n",
       "      <th>index</th>\n",
       "      <th>flag</th>\n",
       "      <th>rate</th>\n",
       "      <th>wup</th>\n",
       "      <th>pop</th>\n",
       "      <th>ava</th>\n",
       "      <th>mpcy</th>\n",
       "      <th>potential</th>\n",
       "      <th>region</th>\n",
       "      <th>country</th>\n",
       "      <th>cityname</th>\n",
       "      <th>12region</th>\n",
       "      <th>ava_int</th>\n",
       "      <th>mpcy_int</th>\n",
       "    </tr>\n",
       "  </thead>\n",
       "  <tbody>\n",
       "    <tr>\n",
       "      <th>13</th>\n",
       "      <td>14</td>\n",
       "      <td>False</td>\n",
       "      <td>0.92072</td>\n",
       "      <td>12611.924</td>\n",
       "      <td>11612047.0</td>\n",
       "      <td>4.488725e+08</td>\n",
       "      <td>38.655756</td>\n",
       "      <td>37.0</td>\n",
       "      <td>southern asia</td>\n",
       "      <td>Pakistan</td>\n",
       "      <td>Karachi</td>\n",
       "      <td>South Asia</td>\n",
       "      <td>8.267551e+08</td>\n",
       "      <td>71.19805</td>\n",
       "    </tr>\n",
       "  </tbody>\n",
       "</table>\n",
       "</div>"
      ],
      "text/plain": [
       "    index   flag     rate        wup         pop           ava       mpcy  \\\n",
       "13     14  False  0.92072  12611.924  11612047.0  4.488725e+08  38.655756   \n",
       "\n",
       "    potential         region   country cityname    12region       ava_int  \\\n",
       "13       37.0  southern asia  Pakistan  Karachi  South Asia  8.267551e+08   \n",
       "\n",
       "    mpcy_int  \n",
       "13  71.19805  "
      ]
     },
     "metadata": {},
     "output_type": "display_data"
    }
   ],
   "source": [
    "# This test code shows ava & mpcy\n",
    "\n",
    "import pandas as pd\n",
    "\n",
    "#mpcy_int_path = '/mnt/c/Users/tsimk/Downloads/dotfiles/h08/global_city/dat/cty_lst_/gpw4/mcy_pop_water_12region.txt'\n",
    "#column_names = ['index', 'flag', 'rate', 'wup', 'pop', 'ava', 'mpcy', 'potential', 'region', 'country', 'cityname', '12region']\n",
    "#df = pd.read_csv(mpcy_int_path, delimiter='|', header=None, names=column_names)\n",
    "\n",
    "mpcy_int_path = '/mnt/c/Users/tsimk/Downloads/dotfiles/h08/wsi/dat/availablewater/updown_availability_100km_abandon_revised.txt'\n",
    "df = pd.read_csv(mpcy_int_path, delimiter='|', header=0)\n",
    "df_filtered_test = df[df['index'] == target_city]\n",
    "display(df_filtered_test.head())"
   ]
  },
  {
   "cell_type": "code",
   "execution_count": 26,
   "id": "4e75552b-0f2a-4a12-abb3-ac4133eb384d",
   "metadata": {},
   "outputs": [
    {
     "name": "stdout",
     "output_type": "stream",
     "text": [
      "city_num: 14, riv_num: 23.0\n",
      "dis_pprf: 0.0\n",
      "dis_sprf: 0.4488724603125\n",
      "dis_pint: 0.0\n",
      "dis_sint: 0.37788264534375\n",
      "prf_total: 0.4488724603125\n",
      "int_total: 0.37788264534375\n"
     ]
    }
   ],
   "source": [
    "import numpy as np\n",
    "\n",
    "def discharge_withincity(city_num, riv_num):\n",
    "    print(f'city_num: {city_num}, riv_num: {riv_num}')\n",
    "    distance = 100\n",
    "    h08dir = '/mnt/c/Users/tsimk/Downloads/dotfiles/h08'\n",
    "    rivout_path = f'{h08dir}/wsi/dat/riv_out_/W5E5LR__00000000.gl5'\n",
    "    rivnum_path = f'{h08dir}/global_city/dat/riv_num_/rivnum.CAMA.gl5'\n",
    "    rivout_gl5 = np.fromfile(rivout_path, dtype='float32').reshape(2160, 4320)\n",
    "    rivnum_gl5 = np.fromfile(rivnum_path, dtype='float32').reshape(2160, 4320)\n",
    "    prf_dir = f'{h08dir}/global_city/dat/cty_prf_'\n",
    "    int_dir = f'{h08dir}/global_city/dat/cty_int_/{distance}km_samebasin'\n",
    "    \n",
    "    prf_path = f'{prf_dir}/vld_cty_/city_{city_num:08}.gl5'\n",
    "    int_path = f'{int_dir}/city_{city_num:08}.gl5'\n",
    "    \n",
    "    prf = np.fromfile(prf_path, dtype='float32').reshape(2160, 4320)\n",
    "    intake = np.fromfile(int_path, dtype='float32').reshape(2160, 4320)\n",
    "    \n",
    "    dis_pprf = np.sum(rivout_gl5[(prf==1) & (rivnum_gl5==riv_num)])* 60 * 60 * 24 * 365 / (1000) # m3/year\n",
    "    dis_sprf = np.sum(rivout_gl5[(prf==1) & (rivnum_gl5!=riv_num)])* 60 * 60 * 24 * 365 / (1000) # m3/year\n",
    "    dis_pint = np.sum(rivout_gl5[(intake==1) & (rivnum_gl5==riv_num)])* 60 * 60 * 24 * 365 / (1000) # m3/year\n",
    "    dis_sint = np.sum(rivout_gl5[(intake==1) & (rivnum_gl5!=riv_num)])* 60 * 60 * 24 * 365 / (1000) # m3/year\n",
    "\n",
    "    print(f'dis_pprf: {dis_pprf/1e9}')\n",
    "    print(f'dis_sprf: {dis_sprf/1e9}')\n",
    "    print(f'dis_pint: {dis_pint/1e9}')\n",
    "    print(f'dis_sint: {dis_sint/1e9}')\n",
    "\n",
    "    prf_total = dis_pprf + dis_sprf\n",
    "    int_total = dis_pint + dis_sint\n",
    "\n",
    "    print(f'prf_total: {prf_total/1e9}')\n",
    "    print(f'int_total: {int_total/1e9}')\n",
    "\n",
    "discharge_withincity(target_city, target_key)"
   ]
  },
  {
   "cell_type": "code",
   "execution_count": null,
   "id": "9da7c3f1-a471-4660-9b22-558bdb96c0ab",
   "metadata": {},
   "outputs": [],
   "source": []
  }
 ],
 "metadata": {
  "kernelspec": {
   "display_name": "Python 3 (ipykernel)",
   "language": "python",
   "name": "python3"
  },
  "language_info": {
   "codemirror_mode": {
    "name": "ipython",
    "version": 3
   },
   "file_extension": ".py",
   "mimetype": "text/x-python",
   "name": "python",
   "nbconvert_exporter": "python",
   "pygments_lexer": "ipython3",
   "version": "3.10.12"
  }
 },
 "nbformat": 4,
 "nbformat_minor": 5
}
