{
 "cells": [
  {
   "cell_type": "code",
   "execution_count": 30,
   "id": "343df1fb-1e83-484b-8daf-c0d8db4dcb23",
   "metadata": {
    "scrolled": true
   },
   "outputs": [
    {
     "name": "stdout",
     "output_type": "stream",
     "text": [
      "target_city: 77\n",
      "target_key_list: ['21.0', '43.0']\n"
     ]
    }
   ],
   "source": [
    "####################################################################################\n",
    "# This test code shows how new_basin_cities looks like\n",
    "# basin at each city\n",
    "distance=100\n",
    "min_of_cities=0\n",
    "max_of_basinnum=1000\n",
    "####################################################################################\n",
    "h08dir = '/mnt/c/Users/tsimk/Downloads/dotfiles/h08'\n",
    "basin_cities_path = f'{h08dir}/global_city/dat/riv_num_/basin_to_cities_{distance}km.json'\n",
    "\n",
    "with open(basin_cities_path, 'r') as json_file:\n",
    "    tmp = json.load(json_file)\n",
    "    \n",
    "sorted_keys = sorted(tmp.keys(), key=lambda k: float(k))\n",
    "\n",
    "target_city = 77\n",
    "target_key_list = []\n",
    "\n",
    "for key in sorted_keys:\n",
    "    value = tmp[key]\n",
    "    if min_of_cities < len(value) and float(key) < max_of_basinnum:\n",
    "        for i in value:\n",
    "            if int(float(i)) == target_city:\n",
    "                target_key_list.append(key)\n",
    "        #print(f'key{key}, len: {len(value)}')\n",
    "        #print(value)\n",
    "        #print('-----------------------------------------')\n",
    "print(f'target_city: {target_city}')\n",
    "print(f'target_key_list: {target_key_list}')"
   ]
  },
  {
   "cell_type": "code",
   "execution_count": 35,
   "id": "59fb0575-31f6-4701-9c66-a28a95579a6e",
   "metadata": {},
   "outputs": [
    {
     "name": "stdout",
     "output_type": "stream",
     "text": [
      "target_key: 21.0\n",
      "value: ['77', '122', '256', '656', '1060', '1513', '1625']\n"
     ]
    }
   ],
   "source": [
    "target_key = '21.0'\n",
    "value = tmp[target_key]\n",
    "print(f'target_key: {target_key}')\n",
    "print(f'value: {value}')"
   ]
  },
  {
   "cell_type": "code",
   "execution_count": null,
   "id": "6614385f-4e9a-4234-89b6-472b98054b81",
   "metadata": {},
   "outputs": [],
   "source": []
  },
  {
   "cell_type": "code",
   "execution_count": null,
   "id": "a256fe7e-0e1e-4881-b0b2-e50399085707",
   "metadata": {},
   "outputs": [],
   "source": []
  }
 ],
 "metadata": {
  "kernelspec": {
   "display_name": "Python 3 (ipykernel)",
   "language": "python",
   "name": "python3"
  },
  "language_info": {
   "codemirror_mode": {
    "name": "ipython",
    "version": 3
   },
   "file_extension": ".py",
   "mimetype": "text/x-python",
   "name": "python",
   "nbconvert_exporter": "python",
   "pygments_lexer": "ipython3",
   "version": "3.10.12"
  }
 },
 "nbformat": 4,
 "nbformat_minor": 5
}
