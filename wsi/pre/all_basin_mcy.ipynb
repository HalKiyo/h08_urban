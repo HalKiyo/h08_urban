{
 "cells": [
  {
   "cell_type": "code",
   "execution_count": null,
   "id": "8791e382-3874-4e08-9031-124b2d9e974b",
   "metadata": {
    "scrolled": true
   },
   "outputs": [
    {
     "name": "stdout",
     "output_type": "stream",
     "text": [
      "0\n",
      "10000\n",
      "20000\n",
      "30000\n",
      "40000\n",
      "50000\n"
     ]
    }
   ],
   "source": [
    "import os\n",
    "import numpy as np\n",
    "import matplotlib.pyplot as plt\n",
    "import cartopy.crs as ccrs\n",
    "import cartopy.feature as cfeature\n",
    "import matplotlib.colors as mcolors\n",
    "from matplotlib.colors import LinearSegmentedColormap\n",
    "\n",
    "h08dir = '/mnt/c/Users/tsimk/Downloads/dotfiles/h08'\n",
    "pop_path = f'{h08dir}/global_city/dat/pop_tot_/GPW4ag__20100000.gl5'\n",
    "pop = np.fromfile(pop_path, dtype='float32').reshape(2160, 4320)\n",
    "riv_path = f'{h08dir}/wsi/dat/riv_out_/W5E5LR__00000000.gl5'\n",
    "rivout = np.fromfile(riv_path, dtype='float32').reshape(2160, 4320)\n",
    "rivnum_path = f'{h08dir}/global_city/dat/riv_num_/rivnum.CAMA.gl5'\n",
    "rivnum = np.fromfile(rivnum_path, dtype='float32').reshape(2160, 4320)\n",
    "rivara_path = f'{h08dir}/global_city/dat/riv_ara_/rivara.CAMA.gl5'\n",
    "rivara = np.fromfile(rivara_path, dtype='float32').reshape(2160, 4320)\n",
    "\n",
    "uids = np.unique(rivnum)\n",
    "world = np.zeros((2160, 4320))\n",
    "\n",
    "for i, uid in enumerate(uids):\n",
    "    mask = (rivnum == uid)\n",
    "    pop_basin = pop[mask]\n",
    "    pop_sum = np.sum(pop_basin)\n",
    "    rivara_masked = np.ma.masked_where(~mask, rivara)\n",
    "    largest_rivara_index = np.argmax(rivara_masked)\n",
    "    largest_rivara_coords = np.unravel_index(largest_rivara_index, rivara.shape)\n",
    "    supply = rivout[largest_rivara_coords]\n",
    "    supply_sum = np.sum(supply) * 60 * 60 * 24 * 365 / 1000\n",
    "    if pop_sum == 0:\n",
    "        cmy = 0\n",
    "    else:\n",
    "        cmy = supply_sum/pop_sum\n",
    "        \n",
    "    if np.sum(world[mask]) < 1:\n",
    "        world[mask] = cmy\n",
    "        \n",
    "    if i % 1e4 == 0:\n",
    "        print(i)\n",
    "        \n",
    "def geography(left, right, bottom, top):\n",
    "    #\n",
    "    resolution = 12\n",
    "    #\n",
    "    upperindex = (90-top)*resolution\n",
    "    lowerindex = (90-bottom)*resolution\n",
    "    leftindex = (180+left)*resolution\n",
    "    rightindex = (180+right)*resolution\n",
    "    #\n",
    "    rgnshape = (lowerindex-upperindex, rightindex-leftindex)\n",
    "    #\n",
    "    img_extent = (left, right, bottom, top)\n",
    "    \n",
    "    return upperindex, lowerindex, leftindex, rightindex, rgnshape, img_extent\n",
    "    \n",
    "#upperindex, lowerindex, leftindex, rightindex, rgnshape, img_extent = geography(-180, 180, -90, 90)\n",
    "#region = world[upperindex:lowerindex, leftindex:rightindex]\n",
    "#region_masked = np.ma.masked_where(region==0, region)\n",
    "#plt.imshow(region_masked)\n",
    "#plt.show()\n",
    "\n",
    "savepath = f'{h08dir}/wsi/dat/MPCY/world_basin_mpcy_backup.npy'\n",
    "np.save(savepath, world)\n",
    "print(f'{savepath} is saved')"
   ]
  },
  {
   "cell_type": "code",
   "execution_count": 32,
   "id": "3fddfebe-9584-46b7-95c6-e23e3a332906",
   "metadata": {
    "scrolled": true
   },
   "outputs": [
    {
     "name": "stdout",
     "output_type": "stream",
     "text": [
      "620737827054.8754\n",
      "9.253951500787949\n",
      "[9.253951500787949 24.238624219221037 32.72329894438308 38.15146675244313\n",
      " 41.03184970490596 43.24271605475887 46.77202243837604 51.643350913350126\n",
      " 66.0368602519592 74.9740747255877 75.54578912491233 81.34503760484793\n",
      " 97.10639067651921 97.85951048103915 97.92560320783853 99.18785847274567\n",
      " 101.02207359886422 103.02945592907773 103.45410092251791\n",
      " 105.54656142233975 108.24320648220991 115.7828075355523\n",
      " 116.09227987378101 119.49910888437084 123.18835466103057\n",
      " 124.57702972176918 125.0205092869313 128.76110738388115\n",
      " 129.66270316869978 138.4480314576969 144.0781119060771 145.19903897043866\n",
      " 159.9527661694598 160.44715644037643 166.83749167873435 167.3054777510484\n",
      " 174.68156763816293 174.92234603350366 178.54953326772846\n",
      " 180.7882206871789 181.62473803341058 181.83936140896017\n",
      " 184.15885922954922 196.3422784039446 201.66011261219776\n",
      " 203.13393381817195 204.4398076169206 204.59113129439845\n",
      " 213.09366988346983 221.38968312824207 222.11054256248377\n",
      " 225.44254890516794 232.85495383771175 237.83817903898668\n",
      " 239.2680623681697 264.8023644507615 266.0598709829364 271.9974887441076\n",
      " 272.29002304550335 273.30357971235077 279.64468532710947\n",
      " 287.1053832572984 287.50330333236093 289.90007430373254\n",
      " 289.90592873486025 301.3418320628957 321.04233485750393\n",
      " 322.25479922036675 322.702295602292 324.56957612503487 328.06139899536856\n",
      " 338.3702172955378 343.6830355127305 346.3498511321502 348.3111012686194\n",
      " 358.3765072603095 358.51640591293415 362.08316937022903 365.2922705907011\n",
      " 371.376450728665 375.03484610686047 385.5589704189421 387.48264208328396\n",
      " 388.2613302746446 390.0678516373004 390.82834913709485 402.35682704513164\n",
      " 422.7124165252359 423.6944364309761 426.5336952933326 445.320979616387\n",
      " 448.1373291176468 451.5783130760308 480.54387773168895 481.20331008433453\n",
      " 484.70460461904213 490.073324215188 505.5503763404256 507.56195423510866\n",
      " 507.9596501539919]\n"
     ]
    }
   ],
   "source": [
    "print(np.max(region_masked))\n",
    "print(np.min(region_masked))\n",
    "uniques = np.unique(region_masked)\n",
    "sorted_indices = np.argsort(uniques)\n",
    "sorted_region_masked = uniques[sorted_indices]\n",
    "#print(sorted_region_masked[:100])"
   ]
  },
  {
   "cell_type": "code",
   "execution_count": 34,
   "id": "dd7d255c-d5c3-4e5f-8c47-9ac28124c284",
   "metadata": {},
   "outputs": [
    {
     "data": {
      "image/png": "[encoded data removed]",
      "text/plain": [
       "<Figure size 640x480 with 1 Axes>"
      ]
     },
     "metadata": {},
     "output_type": "display_data"
    }
   ],
   "source": [
    "upperindex, lowerindex, leftindex, rightindex, rgnshape, img_extent = geography(-180, 180, -90, 90)\n",
    "region = world[upperindex:lowerindex, leftindex:rightindex]\n",
    "region_masked = np.ma.masked_where(region==0, region)\n",
    "region_stressed = np.ma.masked_where(region_masked>1000, region_masked)\n",
    "plt.imshow(region_stressed, cmap='Oranges_r')\n",
    "plt.show()"
   ]
  },
  {
   "cell_type": "code",
   "execution_count": null,
   "id": "375ec5ce-dc4d-4790-a0eb-7bca1a49be71",
   "metadata": {},
   "outputs": [],
   "source": []
  }
 ],
 "metadata": {
  "kernelspec": {
   "display_name": "Python 3 (ipykernel)",
   "language": "python",
   "name": "python3"
  },
  "language_info": {
   "codemirror_mode": {
    "name": "ipython",
    "version": 3
   },
   "file_extension": ".py",
   "mimetype": "text/x-python",
   "name": "python",
   "nbconvert_exporter": "python",
   "pygments_lexer": "ipython3",
   "version": "3.10.12"
  }
 },
 "nbformat": 4,
 "nbformat_minor": 5
}
