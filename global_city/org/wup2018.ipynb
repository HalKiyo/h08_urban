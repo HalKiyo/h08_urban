{
 "cells": [
  {
   "cell_type": "code",
   "execution_count": 27,
   "id": "a6636c03-adb3-48f1-a1c5-133d138cea7b",
   "metadata": {},
   "outputs": [],
   "source": [
    "import numpy as np\n",
    "import pandas as pd"
   ]
  },
  {
   "cell_type": "code",
   "execution_count": 28,
   "id": "49196f39-662c-4d4d-9880-4fce9d4e5494",
   "metadata": {},
   "outputs": [],
   "source": [
    "h08dir = '/mnt/c/Users/tsimk/Downloads/dotfiles/h08/global_city'\n",
    "datdir = '/mnt/c/Users/tsimk/Downloads/research/H08/additional_data'\n",
    "wup_path = f\"{datdir}/WUP/WUP2018/WUP2018-F12-Cities_Over_300k.xls\""
   ]
  },
  {
   "cell_type": "code",
   "execution_count": 29,
   "id": "5f9e9543-1213-49a0-a217-5ae7e6ae1623",
   "metadata": {},
   "outputs": [
    {
     "name": "stdout",
     "output_type": "stream",
     "text": [
      "      index  code         area   code             name  note        lat  \\\n",
      "0         1     4  Afghanistan  20001            Herat   NaN  34.348170   \n",
      "1         2     4  Afghanistan  20002            Kabul   NaN  34.528887   \n",
      "2         3     4  Afghanistan  20003         Kandahar   NaN  31.613320   \n",
      "3         4     4  Afghanistan  20004   Mazar-e Sharif   NaN  36.709040   \n",
      "4         5     8      Albania  20005  Tiranë (Tirana)   NaN  41.327500   \n",
      "...     ...   ...          ...    ...              ...   ...        ...   \n",
      "1855   1856   894       Zambia  23277           Lusaka   NaN -15.413374   \n",
      "1856   1857   894       Zambia  23279            Ndola   NaN -12.958670   \n",
      "1857   1858   716     Zimbabwe  22510         Bulawayo   NaN -20.150000   \n",
      "1858   1859   716     Zimbabwe  22511      Chitungwiza   NaN -18.012740   \n",
      "1859   1860   716     Zimbabwe  22513           Harare   NaN -17.829350   \n",
      "\n",
      "            lon     1950     1955  ...      1990      1995      2000  \\\n",
      "0     62.199670   82.468   85.751  ...   183.465   207.190   233.991   \n",
      "1     69.172460  170.784  220.749  ...  1549.320  1928.694  2401.109   \n",
      "2     65.710130   82.199   89.785  ...   233.243   263.395   297.456   \n",
      "3     67.110870   30.000   37.139  ...   135.153   152.629   172.372   \n",
      "4     19.818890   84.513  106.932  ...   247.270   287.950   335.336   \n",
      "...         ...      ...      ...  ...       ...       ...       ...   \n",
      "1855  28.277148   31.169   53.237  ...   757.433   901.621  1073.299   \n",
      "1856  28.636590   30.621   47.145  ...   333.984   353.337   373.498   \n",
      "1857  28.583330   91.635   94.495  ...   570.046   637.016   664.560   \n",
      "1858  31.075550   38.645   48.777  ...   248.923   287.986   312.294   \n",
      "1859  31.053890  142.652  191.549  ...  1047.467  1255.156  1379.266   \n",
      "\n",
      "          2005      2010      2015      2020      2025      2030      2035  \n",
      "0      275.678   358.691   466.703   605.575   752.910   897.041  1057.573  \n",
      "1     2905.178  3289.005  3723.543  4221.532  4877.024  5737.138  6760.500  \n",
      "2      336.746   383.498   436.741   498.002   577.128   679.278   800.461  \n",
      "3      206.403   283.532   389.483   532.689   681.531   816.040   962.262  \n",
      "4      371.803   408.697   449.298   493.712   535.702   565.301   581.626  \n",
      "...        ...       ...       ...       ...       ...       ...       ...  \n",
      "1855  1357.143  1722.879  2187.180  2774.133  3470.866  4266.517  5182.669  \n",
      "1856   408.948   448.793   492.519   542.495   628.595   762.477   925.726  \n",
      "1857   669.878   658.235   646.800   638.188   668.949   753.306   874.479  \n",
      "1858   332.557   349.406   367.101   386.452   419.611   475.422   552.027  \n",
      "1859  1449.799  1474.557  1499.723  1529.920  1633.019  1844.741  2141.738  \n",
      "\n",
      "[1860 rows x 26 columns]\n"
     ]
    }
   ],
   "source": [
    "df = pd.read_excel(wup_path, skiprows=17, header=None)\n",
    "new_columns = ['index', 'code', 'area', 'code', 'name', 'note', 'lat', 'lon', '1950', '1955', '1960', '1965', '1970', '1975', '1980', '1985', '1990', '1995', '2000', '2005', '2010', '2015', '2020', '2025', '2030', '2035']\n",
    "df.columns = new_columns\n",
    "print(df)"
   ]
  },
  {
   "cell_type": "code",
   "execution_count": 30,
   "id": "9f40e68c-7637-4a9d-8786-a97dfdd69218",
   "metadata": {},
   "outputs": [
    {
     "name": "stdout",
     "output_type": "stream",
     "text": [
      "      index  code                         area    code  \\\n",
      "1087   1088   392                        Japan   21671   \n",
      "807     808   356                        India   21228   \n",
      "448     449   156                        China   20656   \n",
      "1146   1147   484                       Mexico   21853   \n",
      "137     138    76                       Brazil   20287   \n",
      "...     ...   ...                          ...     ...   \n",
      "1668   1669   834  United Republic of Tanzania   23558   \n",
      "1245   1246   566                      Nigeria  206392   \n",
      "1283   1284   512                         Oman   21923   \n",
      "1095   1096   400                       Jordan  205780   \n",
      "1018   1019   368                         Iraq   23326   \n",
      "\n",
      "                                name  note        lat         lon       1950  \\\n",
      "1087                           Tokyo  70.0  35.689500  139.691710  11274.641   \n",
      "807                            Delhi  60.0  28.666670   77.216670   1369.369   \n",
      "448                         Shanghai  39.0  31.222220  121.458060   4288.091   \n",
      "1146  Ciudad de México (Mexico City)  74.0  19.427318  -99.141869   3365.081   \n",
      "137                        São Paulo   NaN -23.547500  -46.636110   2334.038   \n",
      "...                              ...   ...        ...         ...        ...   \n",
      "1668                          Songea   NaN -10.683330   35.650000      0.719   \n",
      "1245                      Gwagwalada   NaN   8.941390    7.091940      3.488   \n",
      "1283               Salahah (Salalah)   NaN  17.012300   54.089388      0.805   \n",
      "1095                     Tila al-Ali   NaN  31.993611   35.862778      1.312   \n",
      "1018                         Samarra   NaN  34.196630   43.873900     11.300   \n",
      "\n",
      "           1955  ...       1990       1995       2000       2005       2010  \\\n",
      "1087  13712.679  ...  32530.003  33586.573  34449.908  35621.544  36859.626   \n",
      "807    1781.624  ...   9384.209  12138.233  15691.899  18691.330  21987.895   \n",
      "448    5712.858  ...   8605.812  11072.063  14246.541  17055.788  20314.309   \n",
      "1146   4293.878  ...  15642.318  17017.469  18457.027  19276.065  20136.681   \n",
      "137    3043.828  ...  14775.840  15913.473  17014.078  18288.134  19659.808   \n",
      "...         ...  ...        ...        ...        ...        ...        ...   \n",
      "1668      1.171  ...     57.523     71.916     89.915    121.652    174.178   \n",
      "1245      4.573  ...     30.400     46.944     72.500    111.987    173.000   \n",
      "1283      1.179  ...     56.550    135.437    147.573    159.973    171.495   \n",
      "1095      1.979  ...     35.091     52.918     79.808    119.373    170.544   \n",
      "1018     14.593  ...     70.348     86.940    106.090    118.853    137.983   \n",
      "\n",
      "           2015       2020       2025       2030       2035  \n",
      "1087  37256.109  37393.129  37036.204  36573.799  36014.030  \n",
      "807   25865.875  30290.936  34665.569  38938.697  43345.059  \n",
      "448   23482.181  27058.479  30482.140  32869.265  34341.242  \n",
      "1146  21339.781  21782.378  22752.414  24110.599  25414.624  \n",
      "137   20883.046  22043.028  22990.007  23824.223  24490.136  \n",
      "...         ...        ...        ...        ...        ...  \n",
      "1668    249.334    352.781    469.972    596.538    740.225  \n",
      "1245    267.255    409.916    566.097    697.090    827.117  \n",
      "1283    312.168    420.226    461.680    498.485    525.841  \n",
      "1095    243.652    327.476    367.751    392.563    420.513  \n",
      "1018    288.948    311.819    347.408    398.080    456.909  \n",
      "\n",
      "[1860 rows x 26 columns]\n"
     ]
    }
   ],
   "source": [
    "df_sorted = df.sort_values(by='2010', ascending=False)\n",
    "print(df_sorted)"
   ]
  },
  {
   "cell_type": "code",
   "execution_count": 31,
   "id": "09999dd3-be0a-438c-a794-8444b18b1aaf",
   "metadata": {},
   "outputs": [
    {
     "name": "stdout",
     "output_type": "stream",
     "text": [
      "                                name        lat         lon       2010\n",
      "1087                           Tokyo  35.689500  139.691710  36859.626\n",
      "807                            Delhi  28.666670   77.216670  21987.895\n",
      "448                         Shanghai  31.222220  121.458060  20314.309\n",
      "1146  Ciudad de México (Mexico City)  19.427318  -99.141869  20136.681\n",
      "137                        São Paulo -23.547500  -46.636110  19659.808\n",
      "1066            Kinki M.M.A. (Osaka)  34.675834  135.553823  19312.646\n",
      "1757                 New York-Newark  40.717042  -74.003663  18365.262\n",
      "881                  Mumbai (Bombay)  19.073975   72.880838  18257.413\n",
      "684               Al-Qahirah (Cairo)  30.039173   31.239411  16899.015\n",
      "203                          Beijing  39.907500  116.397230  16441.252\n"
     ]
    }
   ],
   "source": [
    "drop_columns = ['index', 'code', 'area', 'code', 'note',  '1950', '1955', '1960', '1965', '1970', '1975', '1980', '1985', '1990', '1995', '2000', '2005', '2015', '2020', '2025', '2030', '2035']\n",
    "df_dropped = df_sorted.drop(columns=drop_columns)\n",
    "print(df_dropped[:10])"
   ]
  },
  {
   "cell_type": "code",
   "execution_count": 42,
   "id": "c2e2545a-ed1d-4400-b40d-3e9ec6d1d5fb",
   "metadata": {},
   "outputs": [
    {
     "name": "stdout",
     "output_type": "stream",
     "text": [
      "      index        lat         lon       2010                            name\n",
      "1087      1  35.689500  139.691710  36859.626                           Tokyo\n",
      "807       2  28.666670   77.216670  21987.895                           Delhi\n",
      "448       3  31.222220  121.458060  20314.309                        Shanghai\n",
      "1146      4  19.427318  -99.141869  20136.681  Ciudad de México (Mexico City)\n",
      "137       5 -23.547500  -46.636110  19659.808                       São Paulo\n",
      "...     ...        ...         ...        ...                             ...\n",
      "1668   1856 -10.683330   35.650000    174.178                          Songea\n",
      "1245   1857   8.941390    7.091940    173.000                      Gwagwalada\n",
      "1283   1858  17.012300   54.089388    171.495               Salahah (Salalah)\n",
      "1095   1859  31.993611   35.862778    170.544                     Tila al-Ali\n",
      "1018   1860  34.196630   43.873900    137.983                         Samarra\n",
      "\n",
      "[1860 rows x 5 columns]\n"
     ]
    }
   ],
   "source": [
    "#df_dropped.insert(0, 'index', range(1, len(df_sorted)+1))\n",
    "df_new = df_dropped[[col for col in df_dropped.columns if col != 'name'] + ['name']]\n",
    "print(df_new)"
   ]
  },
  {
   "cell_type": "code",
   "execution_count": 46,
   "id": "3f2bd3b6-1dfb-4a7c-b90f-604bab0bba48",
   "metadata": {},
   "outputs": [],
   "source": [
    "save_flag = True\n",
    "if save_flag is True:\n",
    "    datdir = '/mnt/c/Users/tsimk/Downloads/dotfiles/h08/global_city/dat/cty_lst_/gpw4'\n",
    "    save_path = f\"{datdir}/WUP2018_300k_2010.txt\"\n",
    "    df_new.to_csv(save_path, sep='\\t', index=False, header=False)"
   ]
  },
  {
   "cell_type": "code",
   "execution_count": null,
   "id": "6e3dcf99-42b3-48c0-ab16-0eea1d87f807",
   "metadata": {},
   "outputs": [],
   "source": []
  }
 ],
 "metadata": {
  "kernelspec": {
   "display_name": "Python 3 (ipykernel)",
   "language": "python",
   "name": "python3"
  },
  "language_info": {
   "codemirror_mode": {
    "name": "ipython",
    "version": 3
   },
   "file_extension": ".py",
   "mimetype": "text/x-python",
   "name": "python",
   "nbconvert_exporter": "python",
   "pygments_lexer": "ipython3",
   "version": "3.10.12"
  }
 },
 "nbformat": 4,
 "nbformat_minor": 5
}
