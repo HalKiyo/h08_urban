{
 "cells": [
  {
   "cell_type": "code",
   "execution_count": 1,
   "id": "bdadd9e5-7c1b-406e-8f6a-1f78f4f3f82e",
   "metadata": {},
   "outputs": [],
   "source": [
    "import numpy as np\n",
    "import matplotlib.pyplot as plt\n",
    "import cartopy.crs as ccrs"
   ]
  },
  {
   "cell_type": "code",
   "execution_count": 12,
   "id": "03935281-1fd1-44b8-b0cc-f10141fb01c0",
   "metadata": {},
   "outputs": [],
   "source": [
    "def geography():\n",
    "    #\n",
    "    a = 2160\n",
    "    b = 4320\n",
    "    gl5shape = (a, b)\n",
    "    #\n",
    "    #\n",
    "    # region\n",
    "    one = 138\n",
    "    two = 141\n",
    "    three = 34\n",
    "    four = 37\n",
    "    #\n",
    "    upperindex = (90-four)*12\n",
    "    lowerindex = (90-three)*12\n",
    "    leftindex = (180+one)*12\n",
    "    rightindex = (180+two)*12\n",
    "    #\n",
    "    rgnshape = (lowerindex-upperindex, rightindex-leftindex)\n",
    "    #\n",
    "    img_extent = (one, two, three, four)\n",
    "    \n",
    "    return upperindex, lowerindex, leftindex, rightindex, rgnshape, img_extent\n",
    "\n",
    "upperindex, lowerindex, leftindex, rightindex, rgnshape, img_extent = geography()"
   ]
  },
  {
   "cell_type": "code",
   "execution_count": null,
   "id": "49ab705d-fda2-4a3f-9dd4-b89a98fe2894",
   "metadata": {},
   "outputs": [
    {
     "name": "stdout",
     "output_type": "stream",
     "text": [
      "[0.000e+00 1.000e+00 2.000e+00 ... 1.858e+03 1.859e+03 1.860e+03]\n"
     ]
    }
   ],
   "source": [
    "h08dir = '/mnt/c/Users/tsimk/Downloads/dotfiles/h08/global_city'\n",
    "ctycnt_path = f'{h08dir}/dat/cty_cnt_/gpw4/city_clrd0000.gl5'\n",
    "ctycnt_gl5 = np.fromfile(ctycnt_path, dtype='float32').reshape(2160, 4320)\n",
    "ctycnt_cropped = ctycnt_gl5[upperindex:lowerindex, leftindex:rightindex]\n",
    "ctycnt_masked = np.ma.masked_where(ctycnt_cropped==0, ctycnt_cropped)\n",
    "\n",
    "# check if unique value existis for city center\n",
    "unq = np.unique(ctycnt_gl5)\n",
    "print(unq)\n",
    "\n",
    "# draw\n",
    "projection = ccrs.PlateCarree()\n",
    "\n",
    "fig = plt.figure(figsize=(100, 100))\n",
    "ax = plt.subplot(projection=projection)\n",
    "im = ax.imshow(ctycnt_masked,\n",
    "               extent=img_extent, transform=projection, cmap='tab20')\n",
    "ax.coastlines()\n",
    "\n",
    "#west, east, south, north = 138, 141, 34, 37\n",
    "#ax.set_xlim(west, east)\n",
    "#ax.set_ylim(south, north)\n",
    "\n",
    "plt.show()"
   ]
  },
  {
   "cell_type": "code",
   "execution_count": null,
   "id": "453878a0-f590-4457-8066-7810a22b4288",
   "metadata": {},
   "outputs": [],
   "source": []
  }
 ],
 "metadata": {
  "kernelspec": {
   "display_name": "Python 3 (ipykernel)",
   "language": "python",
   "name": "python3"
  },
  "language_info": {
   "codemirror_mode": {
    "name": "ipython",
    "version": 3
   },
   "file_extension": ".py",
   "mimetype": "text/x-python",
   "name": "python",
   "nbconvert_exporter": "python",
   "pygments_lexer": "ipython3",
   "version": "3.10.12"
  }
 },
 "nbformat": 4,
 "nbformat_minor": 5
}
