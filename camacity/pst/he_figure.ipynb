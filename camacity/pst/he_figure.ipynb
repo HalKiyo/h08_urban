{
 "cells": [
  {
   "cell_type": "code",
   "execution_count": 18,
   "id": "30f01da4-ceeb-4fa7-8753-0ccf745cff8e",
   "metadata": {},
   "outputs": [],
   "source": [
    "import os\n",
    "import numpy as np\n",
    "import matplotlib.pyplot as plt"
   ]
  },
  {
   "cell_type": "code",
   "execution_count": 24,
   "id": "44fb1774-8657-459f-a818-25b04d6c1580",
   "metadata": {},
   "outputs": [
    {
     "name": "stdout",
     "output_type": "stream",
     "text": [
      "1 85 8 93 0.9139784946236559\n"
     ]
    },
    {
     "ename": "KeyboardInterrupt",
     "evalue": "",
     "output_type": "error",
     "traceback": [
      "\u001b[0;31m---------------------------------------------------------------------------\u001b[0m",
      "\u001b[0;31mKeyboardInterrupt\u001b[0m                         Traceback (most recent call last)",
      "Cell \u001b[0;32mIn[24], line 20\u001b[0m\n\u001b[1;32m     18\u001b[0m \u001b[38;5;28;01mfor\u001b[39;00m i \u001b[38;5;129;01min\u001b[39;00m \u001b[38;5;28mrange\u001b[39m(\u001b[38;5;241m2160\u001b[39m):\n\u001b[1;32m     19\u001b[0m     \u001b[38;5;28;01mfor\u001b[39;00m j \u001b[38;5;129;01min\u001b[39;00m \u001b[38;5;28mrange\u001b[39m(\u001b[38;5;241m4320\u001b[39m):\n\u001b[0;32m---> 20\u001b[0m         \u001b[38;5;28;01mif\u001b[39;00m \u001b[43mmsk\u001b[49m\u001b[43m[\u001b[49m\u001b[43mi\u001b[49m\u001b[43m,\u001b[49m\u001b[43mj\u001b[49m\u001b[43m]\u001b[49m\u001b[43m \u001b[49m\u001b[38;5;241;43m!=\u001b[39;49m\u001b[43m \u001b[49m\u001b[38;5;241;43m0\u001b[39;49m:\n\u001b[1;32m     21\u001b[0m             \u001b[38;5;28;01mif\u001b[39;00m val_data[i,j] \u001b[38;5;241m==\u001b[39m \u001b[38;5;241m1\u001b[39m:\n\u001b[1;32m     22\u001b[0m                 true \u001b[38;5;241m+\u001b[39m\u001b[38;5;241m=\u001b[39m \u001b[38;5;241m1\u001b[39m\n",
      "File \u001b[0;32m/usr/local/lib/python3.10/dist-packages/numpy/ma/core.py:4195\u001b[0m, in \u001b[0;36mMaskedArray.__ne__\u001b[0;34m(self, other)\u001b[0m\n\u001b[1;32m   4184\u001b[0m \u001b[38;5;28;01mdef\u001b[39;00m \u001b[38;5;21m__ne__\u001b[39m(\u001b[38;5;28mself\u001b[39m, other):\n\u001b[1;32m   4185\u001b[0m \u001b[38;5;250m    \u001b[39m\u001b[38;5;124;03m\"\"\"Check whether other does not equal self elementwise.\u001b[39;00m\n\u001b[1;32m   4186\u001b[0m \n\u001b[1;32m   4187\u001b[0m \u001b[38;5;124;03m    When either of the elements is masked, the result is masked as well,\u001b[39;00m\n\u001b[0;32m   (...)\u001b[0m\n\u001b[1;32m   4193\u001b[0m \u001b[38;5;124;03m    and other considered equal only if both were fully masked.\u001b[39;00m\n\u001b[1;32m   4194\u001b[0m \u001b[38;5;124;03m    \"\"\"\u001b[39;00m\n\u001b[0;32m-> 4195\u001b[0m     \u001b[38;5;28;01mreturn\u001b[39;00m \u001b[38;5;28;43mself\u001b[39;49m\u001b[38;5;241;43m.\u001b[39;49m\u001b[43m_comparison\u001b[49m\u001b[43m(\u001b[49m\u001b[43mother\u001b[49m\u001b[43m,\u001b[49m\u001b[43m \u001b[49m\u001b[43moperator\u001b[49m\u001b[38;5;241;43m.\u001b[39;49m\u001b[43mne\u001b[49m\u001b[43m)\u001b[49m\n",
      "File \u001b[0;32m/usr/local/lib/python3.10/dist-packages/numpy/ma/core.py:4110\u001b[0m, in \u001b[0;36mMaskedArray._comparison\u001b[0;34m(self, other, compare)\u001b[0m\n\u001b[1;32m   4108\u001b[0m omask \u001b[38;5;241m=\u001b[39m getmask(other)\n\u001b[1;32m   4109\u001b[0m smask \u001b[38;5;241m=\u001b[39m \u001b[38;5;28mself\u001b[39m\u001b[38;5;241m.\u001b[39mmask\n\u001b[0;32m-> 4110\u001b[0m mask \u001b[38;5;241m=\u001b[39m \u001b[43mmask_or\u001b[49m\u001b[43m(\u001b[49m\u001b[43msmask\u001b[49m\u001b[43m,\u001b[49m\u001b[43m \u001b[49m\u001b[43momask\u001b[49m\u001b[43m,\u001b[49m\u001b[43m \u001b[49m\u001b[43mcopy\u001b[49m\u001b[38;5;241;43m=\u001b[39;49m\u001b[38;5;28;43;01mTrue\u001b[39;49;00m\u001b[43m)\u001b[49m\n\u001b[1;32m   4112\u001b[0m odata \u001b[38;5;241m=\u001b[39m getdata(other)\n\u001b[1;32m   4113\u001b[0m \u001b[38;5;28;01mif\u001b[39;00m mask\u001b[38;5;241m.\u001b[39mdtype\u001b[38;5;241m.\u001b[39mnames \u001b[38;5;129;01mis\u001b[39;00m \u001b[38;5;129;01mnot\u001b[39;00m \u001b[38;5;28;01mNone\u001b[39;00m:\n\u001b[1;32m   4114\u001b[0m     \u001b[38;5;66;03m# only == and != are reasonably defined for structured dtypes,\u001b[39;00m\n\u001b[1;32m   4115\u001b[0m     \u001b[38;5;66;03m# so give up early for all other comparisons:\u001b[39;00m\n",
      "File \u001b[0;32m/usr/local/lib/python3.10/dist-packages/numpy/ma/core.py:1746\u001b[0m, in \u001b[0;36mmask_or\u001b[0;34m(m1, m2, copy, shrink)\u001b[0m\n\u001b[1;32m   1744\u001b[0m \u001b[38;5;28;01mif\u001b[39;00m (m2 \u001b[38;5;129;01mis\u001b[39;00m nomask) \u001b[38;5;129;01mor\u001b[39;00m (m2 \u001b[38;5;129;01mis\u001b[39;00m \u001b[38;5;28;01mFalse\u001b[39;00m):\n\u001b[1;32m   1745\u001b[0m     dtype \u001b[38;5;241m=\u001b[39m \u001b[38;5;28mgetattr\u001b[39m(m1, \u001b[38;5;124m'\u001b[39m\u001b[38;5;124mdtype\u001b[39m\u001b[38;5;124m'\u001b[39m, MaskType)\n\u001b[0;32m-> 1746\u001b[0m     \u001b[38;5;28;01mreturn\u001b[39;00m \u001b[43mmake_mask\u001b[49m\u001b[43m(\u001b[49m\u001b[43mm1\u001b[49m\u001b[43m,\u001b[49m\u001b[43m \u001b[49m\u001b[43mcopy\u001b[49m\u001b[38;5;241;43m=\u001b[39;49m\u001b[43mcopy\u001b[49m\u001b[43m,\u001b[49m\u001b[43m \u001b[49m\u001b[43mshrink\u001b[49m\u001b[38;5;241;43m=\u001b[39;49m\u001b[43mshrink\u001b[49m\u001b[43m,\u001b[49m\u001b[43m \u001b[49m\u001b[43mdtype\u001b[49m\u001b[38;5;241;43m=\u001b[39;49m\u001b[43mdtype\u001b[49m\u001b[43m)\u001b[49m\n\u001b[1;32m   1747\u001b[0m \u001b[38;5;28;01mif\u001b[39;00m m1 \u001b[38;5;129;01mis\u001b[39;00m m2 \u001b[38;5;129;01mand\u001b[39;00m is_mask(m1):\n\u001b[1;32m   1748\u001b[0m     \u001b[38;5;28;01mreturn\u001b[39;00m m1\n",
      "File \u001b[0;32m/usr/local/lib/python3.10/dist-packages/numpy/ma/core.py:1637\u001b[0m, in \u001b[0;36mmake_mask\u001b[0;34m(m, copy, shrink, dtype)\u001b[0m\n\u001b[1;32m   1634\u001b[0m     \u001b[38;5;28;01mreturn\u001b[39;00m np\u001b[38;5;241m.\u001b[39mones(m\u001b[38;5;241m.\u001b[39mshape, dtype\u001b[38;5;241m=\u001b[39mdtype)\n\u001b[1;32m   1636\u001b[0m \u001b[38;5;66;03m# Fill the mask in case there are missing data; turn it into an ndarray.\u001b[39;00m\n\u001b[0;32m-> 1637\u001b[0m result \u001b[38;5;241m=\u001b[39m \u001b[43mnp\u001b[49m\u001b[38;5;241;43m.\u001b[39;49m\u001b[43marray\u001b[49m\u001b[43m(\u001b[49m\u001b[43mfilled\u001b[49m\u001b[43m(\u001b[49m\u001b[43mm\u001b[49m\u001b[43m,\u001b[49m\u001b[43m \u001b[49m\u001b[38;5;28;43;01mTrue\u001b[39;49;00m\u001b[43m)\u001b[49m\u001b[43m,\u001b[49m\u001b[43m \u001b[49m\u001b[43mcopy\u001b[49m\u001b[38;5;241;43m=\u001b[39;49m\u001b[43mcopy\u001b[49m\u001b[43m,\u001b[49m\u001b[43m \u001b[49m\u001b[43mdtype\u001b[49m\u001b[38;5;241;43m=\u001b[39;49m\u001b[43mdtype\u001b[49m\u001b[43m,\u001b[49m\u001b[43m \u001b[49m\u001b[43msubok\u001b[49m\u001b[38;5;241;43m=\u001b[39;49m\u001b[38;5;28;43;01mTrue\u001b[39;49;00m\u001b[43m)\u001b[49m\n\u001b[1;32m   1638\u001b[0m \u001b[38;5;66;03m# Bas les masques !\u001b[39;00m\n\u001b[1;32m   1639\u001b[0m \u001b[38;5;28;01mif\u001b[39;00m shrink:\n",
      "\u001b[0;31mKeyboardInterrupt\u001b[0m: "
     ]
    }
   ],
   "source": [
    "# reference data\n",
    "hefile = f'/mnt/c/Users/tsimk/Downloads/dotfiles/h08/camacity/dat/he__data/Global_Urban_Land_2010_upscaled.gl5'\n",
    "val_data = np.fromfile(hefile, dtype='float32').reshape(2160, 4320)\n",
    "# verification\n",
    "ref_path = '/mnt/c/Users/tsimk/Downloads/dotfiles/h08/camacity/dat/cty_msk_/city_clrd0000.gl5'\n",
    "ref = np.fromfile(ref_path, dtype='float32').reshape(2160, 4320)\n",
    "# job\n",
    "for num in range(1, 1861):\n",
    "    msk = np.ma.masked_where(ref!=num, ref)\n",
    "    grid_num = np.sum(msk)\n",
    "    if grid_num == 0:\n",
    "        continue\n",
    "        \n",
    "    count = 0\n",
    "    true = 0\n",
    "    false = 0\n",
    "    \n",
    "    for i in range(2160):\n",
    "        for j in range(4320):\n",
    "            if msk[i,j] != 0:\n",
    "                if val_data[i,j] == 1:\n",
    "                    true += 1\n",
    "                else:\n",
    "                    false += 1\n",
    "                count += 1\n",
    "    \n",
    "    rate = true/count\n",
    "    print(num, true, false, count, rate)"
   ]
  },
  {
   "cell_type": "code",
   "execution_count": 35,
   "id": "5b7067c6-359a-4c6c-9e3a-602f9839b4f3",
   "metadata": {},
   "outputs": [],
   "source": [
    "he_text = f'/mnt/c/Users/tsimk/Downloads/dotfiles/h08/camacity/dat/cty_lst_/he_validation.txt'\n",
    "cama_text = f'/mnt/c/users/tsimk/downloads/dotfiles/h08/camacity/dat/cty_lst_/create_text/camacity_second.txt'\n",
    "\n",
    "with open(he_text, 'r') as files:\n",
    "    he_lines = files.readlines()\n",
    "with open(cama_text, 'r') as files:\n",
    "    cama_lines = files.readlines()"
   ]
  },
  {
   "cell_type": "code",
   "execution_count": 36,
   "id": "7294ee59-a222-47d6-a9ee-cafda74ceb9e",
   "metadata": {},
   "outputs": [
    {
     "data": {
      "text/plain": [
       "'2|0.8974358974358975|35|4|39\\n'"
      ]
     },
     "execution_count": 36,
     "metadata": {},
     "output_type": "execute_result"
    }
   ],
   "source": [
    "he_lines[1]"
   ]
  },
  {
   "cell_type": "code",
   "execution_count": 43,
   "id": "f9bf9830-7bfb-40a3-b919-daed010bbd4b",
   "metadata": {},
   "outputs": [],
   "source": [
    "true_list = []\n",
    "false_list = []\n",
    "\n",
    "for ind in range(100):\n",
    "    # cama file\n",
    "    line_cama = cama_lines[ind]\n",
    "    parts_cama = line_cama.split('|')\n",
    "    parts_cama = [item.strip() for item in parts_cama]\n",
    "    ovlp_flg = parts_cama[1]\n",
    "    dwn_flg = parts_cama[2]\n",
    "    if ovlp_flg == 'RMVD' or dwn_flg == 'NoMK':\n",
    "        continue\n",
    "\n",
    "    # he file\n",
    "    line_he = he_lines[ind]\n",
    "    parts_he = line_he.split('|')\n",
    "    parts_he = [item.strip() for item in parts_he]\n",
    "    true_list.append(int(parts_he[2]))\n",
    "    false_list.append(int(parts_he[3]))"
   ]
  },
  {
   "cell_type": "code",
   "execution_count": 44,
   "id": "f1f9d708-78ac-4ed8-9eef-7aba20e43681",
   "metadata": {},
   "outputs": [
    {
     "name": "stdout",
     "output_type": "stream",
     "text": [
      "[85, 35, 33, 43, 33, 22, 62, 11, 22, 28, 13, 47, 13, 12, 34, 34, 40, 9, 29, 9, 49, 15, 16, 16, 45, 11, 9, 12, 36, 19, 82, 11, 20, 15, 11, 15, 20, 29, 20, 16, 21, 15, 6, 6, 7, 24, 17, 26, 38, 14, 27, 15, 9, 23, 33, 39, 19, 19, 31, 67, 11, 9, 66, 8, 25, 32, 33, 74, 7, 8, 4, 11, 4, 9, 19, 22, 10, 30, 27, 17, 6, 5, 10, 12, 33, 12, 41, 51, 9, 29, 50, 33, 48, 9, 12, 18, 13, 13, 15]\n"
     ]
    }
   ],
   "source": [
    "print(true_list)"
   ]
  },
  {
   "cell_type": "code",
   "execution_count": 48,
   "id": "2c676877-a653-436d-a1ba-0f69d1641357",
   "metadata": {},
   "outputs": [],
   "source": [
    "big = [i/(i+j) for i, j in zip(true_list[:10], false_list[:10])]\n",
    "middle = [i/(i+j) for i, j in zip(true_list[10:20], false_list[10:20])]\n",
    "low = [i/(i+j) for i, j in zip(true_list[20:30], false_list[20:30])]"
   ]
  },
  {
   "cell_type": "code",
   "execution_count": 51,
   "id": "25415f83-1c2f-4271-bb43-daf7cc0ec811",
   "metadata": {},
   "outputs": [
    {
     "data": {
      "text/plain": [
       "([<matplotlib.axis.XTick at 0x7f50952afd30>,\n",
       "  <matplotlib.axis.XTick at 0x7f50952afd00>,\n",
       "  <matplotlib.axis.XTick at 0x7f5095236fe0>],\n",
       " [Text(1, 0, 'Large'), Text(2, 0, 'middle'), Text(3, 0, 'low')])"
      ]
     },
     "execution_count": 51,
     "metadata": {},
     "output_type": "execute_result"
    },
    {
     "data": {
      "image/png": "[encoded data removed]",
      "text/plain": [
       "<Figure size 800x600 with 1 Axes>"
      ]
     },
     "metadata": {},
     "output_type": "display_data"
    }
   ],
   "source": [
    "data = [big, middle, low]\n",
    "plt.figure(figsize=(8, 6))\n",
    "plt.boxplot(data)\n",
    "plt.xticks([1, 2, 3,], ['Large', 'middle', 'low'])"
   ]
  },
  {
   "cell_type": "code",
   "execution_count": null,
   "id": "7075e0a8-a52c-459f-8081-e58e42b8fffa",
   "metadata": {},
   "outputs": [],
   "source": []
  }
 ],
 "metadata": {
  "kernelspec": {
   "display_name": "Python 3 (ipykernel)",
   "language": "python",
   "name": "python3"
  },
  "language_info": {
   "codemirror_mode": {
    "name": "ipython",
    "version": 3
   },
   "file_extension": ".py",
   "mimetype": "text/x-python",
   "name": "python",
   "nbconvert_exporter": "python",
   "pygments_lexer": "ipython3",
   "version": "3.10.12"
  }
 },
 "nbformat": 4,
 "nbformat_minor": 5
}
