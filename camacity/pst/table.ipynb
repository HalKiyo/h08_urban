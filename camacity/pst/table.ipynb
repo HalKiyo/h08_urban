{
 "cells": [
  {
   "cell_type": "code",
   "execution_count": 1,
   "id": "50dc541b-b78d-4bab-bf98-ba39ab5852ff",
   "metadata": {},
   "outputs": [],
   "source": [
    "import numpy as np\n",
    "import pandas as pd"
   ]
  },
  {
   "cell_type": "code",
   "execution_count": null,
   "id": "b3e76809-1d6c-4f61-a62b-bd69c328309a",
   "metadata": {},
   "outputs": [],
   "source": [
    "root = '/mnt/c/Users/tsimk/Downloads/dotfiles'\n",
    "cama_path = '/mnt/c/Users/tsimk/Downloads/dotfiles/camacity/cty_lst_/create_text/camacity_fifth.txt'"
   ]
  }
 ],
 "metadata": {
  "kernelspec": {
   "display_name": "Python 3 (ipykernel)",
   "language": "python",
   "name": "python3"
  },
  "language_info": {
   "codemirror_mode": {
    "name": "ipython",
    "version": 3
   },
   "file_extension": ".py",
   "mimetype": "text/x-python",
   "name": "python",
   "nbconvert_exporter": "python",
   "pygments_lexer": "ipython3",
   "version": "3.10.12"
  }
 },
 "nbformat": 4,
 "nbformat_minor": 5
}
