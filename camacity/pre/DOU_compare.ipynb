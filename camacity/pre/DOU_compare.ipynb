{
 "cells": [
  {
   "cell_type": "code",
   "execution_count": 1,
   "id": "30f01da4-ceeb-4fa7-8753-0ccf745cff8e",
   "metadata": {},
   "outputs": [],
   "source": [
    "import os\n",
    "import numpy as np\n",
    "import matplotlib.pyplot as plt"
   ]
  },
  {
   "cell_type": "code",
   "execution_count": 4,
   "id": "5b7067c6-359a-4c6c-9e3a-602f9839b4f3",
   "metadata": {},
   "outputs": [],
   "source": [
    "root = '/mnt/c/Users/tsimk/Downloads/dotfiles'\n",
    "msk_path = '/mnt/c/Users/tsimk/Downloads/dotfiles/h08/camacity/dat/cty_msk_/city_clrd0000.gl5'\n",
    "msk = np.fromfile(msk_path, dtype='float32').reshape(2160, 4320)"
   ]
  },
  {
   "cell_type": "code",
   "execution_count": null,
   "id": "576dd342-88af-4bbd-86c5-4f2e1d7d69d9",
   "metadata": {},
   "outputs": [],
   "source": [
    "city_num = 1\n",
    "tmp = np.where(msk==1, 1, 0)"
   ]
  }
 ],
 "metadata": {
  "kernelspec": {
   "display_name": "Python 3 (ipykernel)",
   "language": "python",
   "name": "python3"
  },
  "language_info": {
   "codemirror_mode": {
    "name": "ipython",
    "version": 3
   },
   "file_extension": ".py",
   "mimetype": "text/x-python",
   "name": "python",
   "nbconvert_exporter": "python",
   "pygments_lexer": "ipython3",
   "version": "3.10.12"
  }
 },
 "nbformat": 4,
 "nbformat_minor": 5
}
