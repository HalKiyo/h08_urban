{
 "cells": [
  {
   "cell_type": "code",
   "execution_count": 5,
   "id": "c1b58ad9-325a-4bf6-893b-7270c5e8f671",
   "metadata": {},
   "outputs": [
    {
     "name": "stdout",
     "output_type": "stream",
     "text": [
      "Layer 1 saved to /mnt/c/Users/tsimk/Downloads/dotfiles/h08/camacity/dat/cty_aqd_/100km_elevation/aqd_layer001.gl5\n",
      "Layer 2 saved to /mnt/c/Users/tsimk/Downloads/dotfiles/h08/camacity/dat/cty_aqd_/100km_elevation/aqd_layer002.gl5\n",
      "Layer 3 saved to /mnt/c/Users/tsimk/Downloads/dotfiles/h08/camacity/dat/cty_aqd_/100km_elevation/aqd_layer003.gl5\n",
      "Layer 4 saved to /mnt/c/Users/tsimk/Downloads/dotfiles/h08/camacity/dat/cty_aqd_/100km_elevation/aqd_layer004.gl5\n",
      "[141, 632, 1687]\n"
     ]
    }
   ],
   "source": [
    "import os\n",
    "import numpy as np\n",
    "\n",
    "camadir = '/mnt/c/Users/tsimk/Downloads/dotfiles/h08/camacity'\n",
    "city_path = f\"{camadir}/dat/cty_lst_/create_text/camacity_third.txt\"\n",
    "savedir = f\"{camadir}/dat/cty_aqd_/100km_elevation\"\n",
    "layers = [np.zeros((2160, 4320), dtype=np.float32)]\n",
    "overlaplist = []\n",
    "\n",
    "with open(city_path, \"r\") as input_file:\n",
    "    lines = input_file.readlines()\n",
    "    \n",
    "for i in range(1860):\n",
    "    line = lines[i]\n",
    "    parts = line.split('|')\n",
    "    parts = [item.strip() for item in parts]\n",
    "    ovlp_state = parts[1]\n",
    "    clst_state = parts[2]\n",
    "    if clst_state == 'NoMK' or ovlp_state == 'RMVD':\n",
    "        continue\n",
    "        \n",
    "    city_num = i+1\n",
    "    loadpath = f\"{savedir}/city_{city_num:08}.gl5\"\n",
    "    try:\n",
    "        aqd = np.fromfile(loadpath, dtype='float32').reshape(2160, 4320)\n",
    "    except FileNotFoundError:\n",
    "        print(f\"city file not found: {loadpath}\")\n",
    "        continue\n",
    "        \n",
    "    non_zero_coords = np.where(aqd != 0)\n",
    "    assigned = False\n",
    "\n",
    "    for layer in layers:\n",
    "        settled_values = layer[non_zero_coords]\n",
    "        if not np.any(settled_values > 0):\n",
    "            layer[non_zero_coords] = city_num\n",
    "            assigned = True\n",
    "            break\n",
    "\n",
    "    if not assigned:\n",
    "        new_layer = np.zeros((2160, 4320), dtype=np.float32)\n",
    "        new_layer[non_zero_coords] = city_num\n",
    "        layers.append(new_layer)\n",
    "        overlaplist.append(city_num)\n",
    "\n",
    "#---------------------------------------------------------------------------\n",
    "# save different layers\n",
    "#---------------------------------------------------------------------------\n",
    "for idx, layer in enumerate(layers, start=1):\n",
    "    savepath = f\"{savedir}/aqd_layer{idx:03}.gl5\"\n",
    "    layer.tofile(savepath)\n",
    "    print(f\"Layer {idx} saved to {savepath}\")\n",
    "\n",
    "print(overlaplist)"
   ]
  },
  {
   "cell_type": "code",
   "execution_count": 18,
   "id": "f319ca3c-c35b-4cc0-8244-9702c985154a",
   "metadata": {},
   "outputs": [
    {
     "name": "stdout",
     "output_type": "stream",
     "text": [
      "1519\n",
      "74\n",
      "9\n",
      "1\n"
     ]
    }
   ],
   "source": [
    "one = '/mnt/c/Users/tsimk/Downloads/dotfiles/h08/camacity/dat/cty_aqd_/100km_elevation/aqd_layer001.gl5'\n",
    "two = '/mnt/c/Users/tsimk/Downloads/dotfiles/h08/camacity/dat/cty_aqd_/100km_elevation/aqd_layer002.gl5'\n",
    "three = '/mnt/c/Users/tsimk/Downloads/dotfiles/h08/camacity/dat/cty_aqd_/100km_elevation/aqd_layer003.gl5'\n",
    "four = '/mnt/c/Users/tsimk/Downloads/dotfiles/h08/camacity/dat/cty_aqd_/100km_elevation/aqd_layer004.gl5'\n",
    "\n",
    "paths = [one, two, three, four]\n",
    "for path in paths:\n",
    "    data = np.fromfile(path, dtype='float32')\n",
    "    ucty = np.unique(data)\n",
    "    count = len([int(i) for i in ucty if int(i)>0])\n",
    "    print(count)"
   ]
  },
  {
   "cell_type": "code",
   "execution_count": null,
   "id": "44c9adf3-aaa2-4a72-a21b-000c0936fee4",
   "metadata": {},
   "outputs": [],
   "source": []
  }
 ],
 "metadata": {
  "kernelspec": {
   "display_name": "Python 3 (ipykernel)",
   "language": "python",
   "name": "python3"
  },
  "language_info": {
   "codemirror_mode": {
    "name": "ipython",
    "version": 3
   },
   "file_extension": ".py",
   "mimetype": "text/x-python",
   "name": "python",
   "nbconvert_exporter": "python",
   "pygments_lexer": "ipython3",
   "version": "3.10.12"
  }
 },
 "nbformat": 4,
 "nbformat_minor": 5
}
