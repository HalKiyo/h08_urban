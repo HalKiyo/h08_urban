{
 "cells": [
  {
   "cell_type": "code",
   "execution_count": 3,
   "id": "25628d52-9747-494e-a485-5b75690209fe",
   "metadata": {},
   "outputs": [
    {
     "name": "stdout",
     "output_type": "stream",
     "text": [
      "[((array([718]), array([3608])), 141), ((array([802]), array([3524])), 148), ((array([788]), array([3620])), 206), ((array([950]), array([3075])), 268), ((array([785]), array([3572])), 379), ((array([795]), array([3238])), 398), ((array([458]), array([2217])), 444), ((array([848]), array([972])), 487), ((array([531]), array([2263])), 586), ((array([678]), array([3555])), 601), ((array([719]), array([3609])), 612), ((array([733]), array([3612])), 620), ((array([681]), array([3724])), 626), ((array([579]), array([3632])), 631), ((array([678]), array([3555])), 632), ((array([776]), array([976])), 634), ((array([629]), array([3688])), 638), ((array([692]), array([3588])), 639), ((array([742]), array([3606])), 651), ((array([646]), array([3579])), 707), ((array([536]), array([2295])), 751), ((array([721]), array([3544])), 773), ((array([886]), array([3054])), 778), ((array([899]), array([3609])), 814), ((array([683]), array([2696])), 821), ((array([689]), array([3593])), 831), ((array([703]), array([3598])), 851), ((array([703]), array([3598])), 873), ((array([464]), array([2312])), 917), ((array([1019]), array([2235])), 935), ((array([694]), array([3607])), 982), ((array([711]), array([2529])), 1019), ((array([720]), array([3525])), 1036), ((array([641]), array([3592])), 1044), ((array([755]), array([3532])), 1059), ((array([454]), array([2119])), 1076), ((array([958]), array([3076])), 1085), ((array([701]), array([3604])), 1107), ((array([620]), array([3555])), 1116), ((array([671]), array([3771])), 1123), ((array([760]), array([3419])), 1133), ((array([586]), array([2330])), 1163), ((array([975]), array([3094])), 1179), ((array([703]), array([3582])), 1180), ((array([899]), array([3609])), 1210), ((array([719]), array([3609])), 1212), ((array([620]), array([3555])), 1214), ((array([641]), array([3592])), 1249), ((array([788]), array([3620])), 1252), ((array([723]), array([3405])), 1276), ((array([680]), array([2585])), 1292), ((array([701]), array([3582])), 1299), ((array([643]), array([3593])), 1328), ((array([1104]), array([2515])), 1333), ((array([562]), array([1211])), 1349), ((array([986]), array([2215])), 1355), ((array([742]), array([3606])), 1366), ((array([630]), array([3835])), 1408), ((array([660]), array([3507])), 1412), ((array([907]), array([3366])), 1413), ((array([594]), array([2361])), 1419), ((array([478]), array([2216])), 1425), ((array([759]), array([3514])), 1457), ((array([989]), array([2211])), 1481), ((array([718]), array([2534])), 1503), ((array([706]), array([2544])), 1553), ((array([1162]), array([3449])), 1595), ((array([458]), array([2130])), 1598), ((array([809]), array([3213])), 1617), ((array([723]), array([3085])), 1620), ((array([1397]), array([2502])), 1625), ((array([1089]), array([2595])), 1632), ((array([719]), array([3609])), 1687), ((array([802]), array([3524])), 1693), ((array([402]), array([2317])), 1701), ((array([660]), array([3524])), 1704), ((array([1016]), array([2247])), 1769), ((array([944]), array([2099])), 1798), ((array([805]), array([3500])), 1800), ((array([621]), array([3554])), 1805), ((array([720]), array([3098])), 1815), ((array([761]), array([3398])), 1831), ((array([741]), array([3553])), 1840), ((array([776]), array([3517])), 1843)]\n"
     ]
    }
   ],
   "source": [
    "import numpy as np\n",
    "import matplotlib.pyplot as plt\n",
    "\n",
    "camadir = '/mnt/c/Users/tsimk/Downloads/dotfiles/h08/camacity'\n",
    "city_path = f\"{camadir}/dat/cty_lst_/create_text/camacity_third.txt\"\n",
    "with open(city_path, \"r\") as input_file:\n",
    "    lines = input_file.readlines()\n",
    "distance_condition = 100\n",
    "savedir = f\"{camadir}/dat/cty_aqd_/{distance_condition}km_elevation\"\n",
    "layerone = np.zeros((2160, 4320))\n",
    "layertwo = np.zeros((2160, 4320))\n",
    "overlaplist = []\n",
    "\n",
    "for i in range(1860):\n",
    "    line = lines[i]\n",
    "    parts = line.split('|')\n",
    "    parts = [item.strip() for item in parts]\n",
    "    ovlp_state = parts[1]\n",
    "    clst_state = parts[2]\n",
    "    if clst_state == 'NoMK' or ovlp_state == 'RMVD':\n",
    "        continue\n",
    "        \n",
    "    city_num = i+1\n",
    "    loadpath = f\"{camadir}/dat/cty_aqd_/{distance_condition}km_elevation/city_{city_num:08}.gl5\"\n",
    "    try:\n",
    "        aqd = np.fromfile(loadpath, dtype='float32').reshape(2160, 4320)\n",
    "    except FileNotFoundError:\n",
    "        print(f\"city file not found: {loadpath}\")\n",
    "        continue\n",
    "#---------------------------------------------------------------------------\n",
    "# overlap detection\n",
    "#---------------------------------------------------------------------------\n",
    "    non_zero_coords = np.where(aqd!=0)\n",
    "    settled_values = layerone[non_zero_coords]\n",
    "#---------------------------------------------------------------------------\n",
    "# canvas update\n",
    "#---------------------------------------------------------------------------\n",
    "    if np.any(settled_values > 0):\n",
    "        overlaplist.append([non_zero_coords, city_num])\n",
    "        layertwo[non_zero_coords] = city_num\n",
    "    else:\n",
    "        layerone[non_zero_coords] = city_num\n",
    "\n",
    "print(overlaplist)"
   ]
  },
  {
   "cell_type": "code",
   "execution_count": 5,
   "id": "c1b58ad9-325a-4bf6-893b-7270c5e8f671",
   "metadata": {},
   "outputs": [
    {
     "name": "stdout",
     "output_type": "stream",
     "text": [
      "Layer 1 saved to /mnt/c/Users/tsimk/Downloads/dotfiles/h08/camacity/dat/cty_aqd_/100km_elevation/aqd_layer001.gl5\n",
      "Layer 2 saved to /mnt/c/Users/tsimk/Downloads/dotfiles/h08/camacity/dat/cty_aqd_/100km_elevation/aqd_layer002.gl5\n",
      "Layer 3 saved to /mnt/c/Users/tsimk/Downloads/dotfiles/h08/camacity/dat/cty_aqd_/100km_elevation/aqd_layer003.gl5\n",
      "Layer 4 saved to /mnt/c/Users/tsimk/Downloads/dotfiles/h08/camacity/dat/cty_aqd_/100km_elevation/aqd_layer004.gl5\n",
      "[141, 632, 1687]\n"
     ]
    }
   ],
   "source": [
    "import os\n",
    "import numpy as np\n",
    "\n",
    "camadir = '/mnt/c/Users/tsimk/Downloads/dotfiles/h08/camacity'\n",
    "city_path = f\"{camadir}/dat/cty_lst_/create_text/camacity_third.txt\"\n",
    "savedir = f\"{camadir}/dat/cty_aqd_/100km_elevation\"\n",
    "layers = [np.zeros((2160, 4320), dtype=np.float32)]\n",
    "overlaplist = []\n",
    "\n",
    "with open(city_path, \"r\") as input_file:\n",
    "    lines = input_file.readlines()\n",
    "    \n",
    "for i in range(1860):\n",
    "    line = lines[i]\n",
    "    parts = line.split('|')\n",
    "    parts = [item.strip() for item in parts]\n",
    "    ovlp_state = parts[1]\n",
    "    clst_state = parts[2]\n",
    "    if clst_state == 'NoMK' or ovlp_state == 'RMVD':\n",
    "        continue\n",
    "        \n",
    "    city_num = i+1\n",
    "    loadpath = f\"{savedir}/city_{city_num:08}.gl5\"\n",
    "    try:\n",
    "        aqd = np.fromfile(loadpath, dtype='float32').reshape(2160, 4320)\n",
    "    except FileNotFoundError:\n",
    "        print(f\"city file not found: {loadpath}\")\n",
    "        continue\n",
    "        \n",
    "    non_zero_coords = np.where(aqd != 0)\n",
    "    assigned = False\n",
    "\n",
    "    for layer in layers:\n",
    "        settled_values = layer[non_zero_coords]\n",
    "        if not np.any(settled_values > 0):\n",
    "            layer[non_zero_coords] = city_num\n",
    "            assigned = True\n",
    "            break\n",
    "\n",
    "    if not assigned:\n",
    "        new_layer = np.zeros((2160, 4320), dtype=np.float32)\n",
    "        new_layer[non_zero_coords] = city_num\n",
    "        layers.append(new_layer)\n",
    "        overlaplist.append(city_num)\n",
    "\n",
    "#---------------------------------------------------------------------------\n",
    "# save different layers\n",
    "#---------------------------------------------------------------------------\n",
    "for idx, layer in enumerate(layers, start=1):\n",
    "    savepath = f\"{savedir}/aqd_layer{idx:03}.gl5\"\n",
    "    layer.tofile(savepath)\n",
    "    print(f\"Layer {idx} saved to {savepath}\")\n",
    "\n",
    "print(overlaplist)"
   ]
  },
  {
   "cell_type": "code",
   "execution_count": 18,
   "id": "f319ca3c-c35b-4cc0-8244-9702c985154a",
   "metadata": {},
   "outputs": [
    {
     "name": "stdout",
     "output_type": "stream",
     "text": [
      "1519\n",
      "74\n",
      "9\n",
      "1\n"
     ]
    }
   ],
   "source": [
    "one = '/mnt/c/Users/tsimk/Downloads/dotfiles/h08/camacity/dat/cty_aqd_/100km_elevation/aqd_layer001.gl5'\n",
    "two = '/mnt/c/Users/tsimk/Downloads/dotfiles/h08/camacity/dat/cty_aqd_/100km_elevation/aqd_layer002.gl5'\n",
    "three = '/mnt/c/Users/tsimk/Downloads/dotfiles/h08/camacity/dat/cty_aqd_/100km_elevation/aqd_layer003.gl5'\n",
    "four = '/mnt/c/Users/tsimk/Downloads/dotfiles/h08/camacity/dat/cty_aqd_/100km_elevation/aqd_layer004.gl5'\n",
    "\n",
    "paths = [one, two, three, four]\n",
    "for path in paths:\n",
    "    data = np.fromfile(path, dtype='float32')\n",
    "    ucty = np.unique(data)\n",
    "    count = len([int(i) for i in ucty if int(i)>0])\n",
    "    print(count)"
   ]
  },
  {
   "cell_type": "code",
   "execution_count": null,
   "id": "44c9adf3-aaa2-4a72-a21b-000c0936fee4",
   "metadata": {},
   "outputs": [],
   "source": []
  }
 ],
 "metadata": {
  "kernelspec": {
   "display_name": "Python 3 (ipykernel)",
   "language": "python",
   "name": "python3"
  },
  "language_info": {
   "codemirror_mode": {
    "name": "ipython",
    "version": 3
   },
   "file_extension": ".py",
   "mimetype": "text/x-python",
   "name": "python",
   "nbconvert_exporter": "python",
   "pygments_lexer": "ipython3",
   "version": "3.10.12"
  }
 },
 "nbformat": 4,
 "nbformat_minor": 5
}
