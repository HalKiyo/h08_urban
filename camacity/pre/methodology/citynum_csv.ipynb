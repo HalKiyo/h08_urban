{
 "cells": [
  {
   "cell_type": "code",
   "execution_count": null,
   "id": "1c983019-75aa-463d-9b35-04abe7313b99",
   "metadata": {},
   "outputs": [
    {
     "name": "stdout",
     "output_type": "stream",
     "text": [
      "Collecting openpyxl\n",
      "  Downloading openpyxl-3.1.5-py2.py3-none-any.whl.metadata (2.5 kB)\n",
      "Collecting et-xmlfile (from openpyxl)\n",
      "  Downloading et_xmlfile-2.0.0-py3-none-any.whl.metadata (2.7 kB)\n",
      "Downloading openpyxl-3.1.5-py2.py3-none-any.whl (250 kB)\n",
      "\u001b[2K   \u001b[90m━━━━━━━━━━━━━━━━━━━━━━━━━━━━━━━━━━━━━━━━\u001b[0m \u001b[32m250.9/250.9 kB\u001b[0m \u001b[31m2.4 MB/s\u001b[0m eta \u001b[36m0:00:00\u001b[0ma \u001b[36m0:00:01\u001b[0m\n",
      "\u001b[?25hDownloading et_xmlfile-2.0.0-py3-none-any.whl (18 kB)\n"
     ]
    }
   ],
   "source": [
    "!pip install openpyxl"
   ]
  },
  {
   "cell_type": "code",
   "execution_count": 12,
   "id": "2b458656-eb2a-4dc4-8038-4bc1b57d3e23",
   "metadata": {},
   "outputs": [],
   "source": [
    "import openpyxl\n",
    "import pandas as pd\n",
    "\n",
    "# 入力ファイルパス\n",
    "input_file = '/mnt/c/Users/tsimk/Downloads/dotfiles/h08/camacity/dat/cty_lst_/create_text/camacity_third.txt'\n",
    "\n",
    "# データを読み込み\n",
    "columns = [\n",
    "    \"City_Number\", \"State\", \"Completeness\", \"Report\", \"Population\", \"Modification\", \n",
    "    \"Country\", \"Grid_size\", \"Region\", \"Latitude\", \"Longitude\", \n",
    "    \"City_Name\", \"Division\"\n",
    "]\n",
    "\n",
    "data = pd.read_csv(input_file, sep='|', header=None, names=columns)\n",
    "\n",
    "# 条件フィルタ: \"State\" 列が \"NoMK\" または \"RMVD\" でないものを選択\n",
    "filtered_data = data[~data['State'].isin(['NoMK', 'RMVD'])]\n",
    "filtered_data = filtered_data[~filtered_data['Completeness'].isin(['NoMK', 'RMVD'])]\n",
    "\n",
    "# 必要な列を選択: City_Number, City_Name, Country\n",
    "output_data = filtered_data[['City_Number', 'City_Name', 'Country']]\n",
    "\n",
    "# エクセルファイルに保存\n",
    "output_file = '/mnt/c/Users/tsimk/Downloads/research/paper-writing/ESSD/zenodo/city_number.xlsx'\n",
    "output_data.to_excel(output_file, index=False, sheet_name='sheet1')\n",
    "\n",
    "#print(f\"エクセルファイルが保存されました: {output_file}\")\n"
   ]
  },
  {
   "cell_type": "code",
   "execution_count": null,
   "id": "31a26bb8-4f76-4101-8b0f-f260f02aa694",
   "metadata": {},
   "outputs": [],
   "source": []
  }
 ],
 "metadata": {
  "kernelspec": {
   "display_name": "Python 3 (ipykernel)",
   "language": "python",
   "name": "python3"
  },
  "language_info": {
   "codemirror_mode": {
    "name": "ipython",
    "version": 3
   },
   "file_extension": ".py",
   "mimetype": "text/x-python",
   "name": "python",
   "nbconvert_exporter": "python",
   "pygments_lexer": "ipython3",
   "version": "3.10.12"
  }
 },
 "nbformat": 4,
 "nbformat_minor": 5
}
