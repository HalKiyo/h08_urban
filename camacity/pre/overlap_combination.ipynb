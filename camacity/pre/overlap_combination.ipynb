{
 "cells": [
  {
   "cell_type": "code",
   "execution_count": 20,
   "id": "22c6b31a-4a10-49d3-a7dc-d88786a447f3",
   "metadata": {},
   "outputs": [],
   "source": [
    "import os\n",
    "import numpy as np\n",
    "import pandas as pd\n",
    "import matplotlib.pyplot as plt\n",
    "\n",
    "# ここでやりたいことはある都市がoverlapで残った都市が消された都市のどれと被っているかを確かめる\n",
    "# 方法 \n",
    "# 1860都市を都市番号のintegerで白地図に順番に追加する\n",
    "# 追加するときに0以外の番号がすでに含まれいる場合\n",
    "# そのグリッド座標の集合 + 含まれている都市番号 + 追加しようとした都市番号を保存する"
   ]
  },
  {
   "cell_type": "code",
   "execution_count": 21,
   "id": "be6916be-760f-43df-aa23-64fdce477b39",
   "metadata": {},
   "outputs": [
    {
     "name": "stdout",
     "output_type": "stream",
     "text": [
      "cty_ind:42 is overlapped with cty_ind:[24.]\n",
      "[807] [3526]\n",
      "cty_ind:43 is overlapped with cty_ind:[24.]\n",
      "[809 809] [3528 3529]\n",
      "cty_ind:44 is overlapped with cty_ind:[23.]\n",
      "[801 802 802 802 803 803] [3519 3518 3519 3520 3517 3518]\n",
      "cty_ind:122 is overlapped with cty_ind:[77.]\n",
      "[1394 1394 1394 1395] [2494 2495 2496 2494]\n",
      "cty_ind:148 is overlapped with cty_ind:[23.]\n",
      "[805] [3519]\n",
      "152 is NoMASK\n"
     ]
    }
   ],
   "source": [
    "# vld_cty_にはNoMASKのcity_maskが存在しない\n",
    "# 除去するprocessを加える必要がある\n",
    "\n",
    "workdir = f'/mnt/c/Users/tsimk/Downloads/dotfiles/h08/global_city/dat/vld_cty_'\n",
    "savedir = f'/mnt/c/Users/tsimk/Downloads/dotfiles/h08/camacity/dat/ovlpcomb'\n",
    "\n",
    "canvas = np.zeros((2160, 4320))\n",
    "\n",
    "for cty_ind in range(1, 1861):\n",
    "    file_path = f'{workdir}/city_{cty_ind:08}.gl5'\n",
    "    if not os.path.exists(file_path):\n",
    "        print(f\"{cty_ind} is NoMASK\")\n",
    "        break\n",
    "        \n",
    "    mask = np.fromfile(file_path, dtype='float32').reshape(2160, 4320)\n",
    "        \n",
    "    # maskが0でない場所のインデックスを取得(tuple形式)\n",
    "    non_zero_coords = np.where(mask != 0)\n",
    "    \n",
    "    # キャンバスのmask位置に存在する値を取得\n",
    "    settled_values = canvas[non_zero_coords]\n",
    "\n",
    "    # ユニークな値は?\n",
    "    unq = np.unique(settled_values)\n",
    "    unq_non_zero = unq[unq > 0]\n",
    "    \n",
    "    if np.sum(settled_values) > 0:\n",
    "        print(f'cty_ind:{cty_ind} is overlapped with cty_ind:{unq_non_zero}')\n",
    "\n",
    "        overlap_ind = np.where(canvas[non_zero_coords] != 0)\n",
    "        overlap_y = non_zero_coords[0][overlap_ind]\n",
    "        overlap_x = non_zero_coords[1][overlap_ind]\n",
    "        print(overlap_y, overlap_x)\n",
    "        \n",
    "        df = pd.DataFrame({'y_coord': overlap_y, 'x_coord': overlap_x})\n",
    "        df.to_csv(f'{savedir}/{cty_ind:08}_{unq_non_zero[0]:08}.csv', index=False)\n",
    "\n",
    "    else:\n",
    "        # update canvas\n",
    "        canvas[non_zero_coords] = cty_ind\n"
   ]
  },
  {
   "cell_type": "code",
   "execution_count": null,
   "id": "f8807171-7d5b-4f5b-92b7-e64d2105a2f6",
   "metadata": {},
   "outputs": [],
   "source": []
  }
 ],
 "metadata": {
  "kernelspec": {
   "display_name": "Python 3 (ipykernel)",
   "language": "python",
   "name": "python3"
  },
  "language_info": {
   "codemirror_mode": {
    "name": "ipython",
    "version": 3
   },
   "file_extension": ".py",
   "mimetype": "text/x-python",
   "name": "python",
   "nbconvert_exporter": "python",
   "pygments_lexer": "ipython3",
   "version": "3.10.12"
  }
 },
 "nbformat": 4,
 "nbformat_minor": 5
}
