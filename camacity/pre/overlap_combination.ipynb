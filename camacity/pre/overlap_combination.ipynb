{
 "cells": [
  {
   "cell_type": "code",
   "execution_count": 1,
   "id": "22c6b31a-4a10-49d3-a7dc-d88786a447f3",
   "metadata": {},
   "outputs": [],
   "source": [
    "import numpy as np\n",
    "import pandas as pd\n",
    "import matplotlib.pyplot as plt\n",
    "\n",
    "# ここでやりたいことはある都市がoverlapで残った都市が消された都市のどれと被っているかを確かめる\n",
    "# 方法 \n",
    "# 1860都市を都市番号のintegerで白地図に順番に追加する\n",
    "# 追加するときに0以外の番号がすでに含まれいる場合\n",
    "# そのグリッド座標の集合 + 含まれている都市番号 + 追加しようとした都市番号を保存する"
   ]
  },
  {
   "cell_type": "code",
   "execution_count": 14,
   "id": "be6916be-760f-43df-aa23-64fdce477b39",
   "metadata": {},
   "outputs": [
    {
     "name": "stdout",
     "output_type": "stream",
     "text": [
      "cty_ind:42 is overlapped with cty_ind:[24.]\n",
      "[807] [3526]\n",
      "cty_ind:43 is overlapped with cty_ind:[24.]\n",
      "[809 809] [3528 3529]\n",
      "cty_ind:44 is overlapped with cty_ind:[23.]\n",
      "[801 802 802 802 803 803] [3519 3518 3519 3520 3517 3518]\n",
      "cty_ind:122 is overlapped with cty_ind:[77.]\n",
      "[1394 1394 1394 1395] [2494 2495 2496 2494]\n",
      "cty_ind:148 is overlapped with cty_ind:[23.]\n",
      "[805] [3519]\n"
     ]
    },
    {
     "ename": "FileNotFoundError",
     "evalue": "[Errno 2] No such file or directory: '/mnt/c/Users/tsimk/Downloads/dotfiles/h08/global_city/dat/vld_cty_/city_00000152.gl5'",
     "output_type": "error",
     "traceback": [
      "\u001b[0;31m---------------------------------------------------------------------------\u001b[0m",
      "\u001b[0;31mFileNotFoundError\u001b[0m                         Traceback (most recent call last)",
      "Cell \u001b[0;32mIn[14], line 11\u001b[0m\n\u001b[1;32m      9\u001b[0m \u001b[38;5;28;01mfor\u001b[39;00m cty_ind \u001b[38;5;129;01min\u001b[39;00m \u001b[38;5;28mrange\u001b[39m(\u001b[38;5;241m1\u001b[39m, \u001b[38;5;241m1861\u001b[39m):\n\u001b[1;32m     10\u001b[0m     file_path \u001b[38;5;241m=\u001b[39m \u001b[38;5;124mf\u001b[39m\u001b[38;5;124m'\u001b[39m\u001b[38;5;132;01m{\u001b[39;00mworkdir\u001b[38;5;132;01m}\u001b[39;00m\u001b[38;5;124m/city_\u001b[39m\u001b[38;5;132;01m{\u001b[39;00mcty_ind\u001b[38;5;132;01m:\u001b[39;00m\u001b[38;5;124m08\u001b[39m\u001b[38;5;132;01m}\u001b[39;00m\u001b[38;5;124m.gl5\u001b[39m\u001b[38;5;124m'\u001b[39m\n\u001b[0;32m---> 11\u001b[0m     mask \u001b[38;5;241m=\u001b[39m \u001b[43mnp\u001b[49m\u001b[38;5;241;43m.\u001b[39;49m\u001b[43mfromfile\u001b[49m\u001b[43m(\u001b[49m\u001b[43mfile_path\u001b[49m\u001b[43m,\u001b[49m\u001b[43m \u001b[49m\u001b[43mdtype\u001b[49m\u001b[38;5;241;43m=\u001b[39;49m\u001b[38;5;124;43m'\u001b[39;49m\u001b[38;5;124;43mfloat32\u001b[39;49m\u001b[38;5;124;43m'\u001b[39;49m\u001b[43m)\u001b[49m\u001b[38;5;241m.\u001b[39mreshape(\u001b[38;5;241m2160\u001b[39m, \u001b[38;5;241m4320\u001b[39m)\n\u001b[1;32m     13\u001b[0m     \u001b[38;5;66;03m# maskが0でない場所のインデックスを取得(tuple形式)\u001b[39;00m\n\u001b[1;32m     14\u001b[0m     non_zero_coords \u001b[38;5;241m=\u001b[39m np\u001b[38;5;241m.\u001b[39mwhere(mask \u001b[38;5;241m!=\u001b[39m \u001b[38;5;241m0\u001b[39m)\n",
      "\u001b[0;31mFileNotFoundError\u001b[0m: [Errno 2] No such file or directory: '/mnt/c/Users/tsimk/Downloads/dotfiles/h08/global_city/dat/vld_cty_/city_00000152.gl5'"
     ]
    }
   ],
   "source": [
    "# vld_cty_にはNoMASKのcity_maskが存在しない\n",
    "# 除去するprocessを加える必要がある\n",
    "\n",
    "workdir = f'/mnt/c/Users/tsimk/Downloads/dotfiles/h08/global_city/dat/vld_cty_'\n",
    "savedir = f'/mnt/c/Users/tsimk/Downloads/dotfiles/h08/camacity/dat/ovlpcomb'\n",
    "\n",
    "canvas = np.zeros((2160, 4320))\n",
    "\n",
    "for cty_ind in range(1, 1861):\n",
    "    file_path = f'{workdir}/city_{cty_ind:08}.gl5'\n",
    "    mask = np.fromfile(file_path, dtype='float32').reshape(2160, 4320)\n",
    "        \n",
    "    # maskが0でない場所のインデックスを取得(tuple形式)\n",
    "    non_zero_coords = np.where(mask != 0)\n",
    "    \n",
    "    # キャンバスのmask位置に存在する値を取得\n",
    "    settled_values = canvas[non_zero_coords]\n",
    "\n",
    "    # ユニークな値は?\n",
    "    unq = np.unique(settled_values)\n",
    "    unq_non_zero = unq[unq > 0]\n",
    "    \n",
    "    if np.sum(settled_values) > 0:\n",
    "        print(f'cty_ind:{cty_ind} is overlapped with cty_ind:{unq_non_zero}')\n",
    "\n",
    "        overlap_ind = np.where(canvas[non_zero_coords] != 0)\n",
    "        overlap_y = non_zero_coords[0][overlap_ind]\n",
    "        overlap_x = non_zero_coords[1][overlap_ind]\n",
    "        print(overlap_y, overlap_x)\n",
    "        \n",
    "        #df = pd.DataFrame({'y_coord': overlap_y, 'x_coord': overlap_x})\n",
    "        #df.to_csv(f'{savedir}/{cty_ind:08}_{unq_non_zero:08}.csv', index=False)\n",
    "\n",
    "    else:\n",
    "        # update canvas\n",
    "        canvas[non_zero_coords] = cty_ind\n"
   ]
  },
  {
   "cell_type": "code",
   "execution_count": 7,
   "id": "77d5dfef-289d-4d05-9dfc-e035af58ecc2",
   "metadata": {},
   "outputs": [
    {
     "name": "stdout",
     "output_type": "stream",
     "text": [
      "(array([802, 802, 802, 803, 803, 804, 805, 805, 806, 806, 807, 807]), array([3523, 3524, 3525, 3524, 3525, 3524, 3524, 3525, 3525, 3526, 3525,\n",
      "       3526]))\n"
     ]
    }
   ],
   "source": [
    "print(non_zero_coords)"
   ]
  },
  {
   "cell_type": "code",
   "execution_count": null,
   "id": "f8807171-7d5b-4f5b-92b7-e64d2105a2f6",
   "metadata": {},
   "outputs": [],
   "source": []
  }
 ],
 "metadata": {
  "kernelspec": {
   "display_name": "Python 3 (ipykernel)",
   "language": "python",
   "name": "python3"
  },
  "language_info": {
   "codemirror_mode": {
    "name": "ipython",
    "version": 3
   },
   "file_extension": ".py",
   "mimetype": "text/x-python",
   "name": "python",
   "nbconvert_exporter": "python",
   "pygments_lexer": "ipython3",
   "version": "3.10.12"
  }
 },
 "nbformat": 4,
 "nbformat_minor": 5
}
