{
 "cells": [
  {
   "cell_type": "code",
   "execution_count": 8,
   "id": "ec80ada1-6dd4-48b1-8451-9b3e85923ad5",
   "metadata": {},
   "outputs": [],
   "source": [
    "region_text = f'/mnt/c/users/tsimk/downloads/dotfiles/h08/global_city/dat/cty_lst_/gpw4/mcy_pop_water_12region.txt'\n",
    "cama_text = f'/mnt/c/users/tsimk/downloads/dotfiles/h08/camacity/dat/cty_lst_/create_text/camacity_second.txt'\n",
    "new_cama = f'/mnt/c/users/tsimk/downloads/dotfiles/h08/camacity/dat/cty_lst_/create_text/camacity_third.txt'\n",
    "\n",
    "with open(region_text, 'r') as files:\n",
    "    region_lines = files.readlines()\n",
    "with open(cama_text, 'r') as files:\n",
    "    cama_lines = files.readlines()"
   ]
  },
  {
   "cell_type": "code",
   "execution_count": 12,
   "id": "2c51051f-6bfc-475f-8b21-c2a6c193d66c",
   "metadata": {},
   "outputs": [],
   "source": [
    "from collections import defaultdict\n",
    "\n",
    "original_dict = defaultdict(list)\n",
    "\n",
    "for ind in range(1860):\n",
    "    line_region = region_lines[ind]\n",
    "    parts_region = line_region.split('|')\n",
    "    parts_region = [item.strip() for item in parts_region]\n",
    "    region_result = parts_region[11]\n",
    "\n",
    "    if ind == 0:\n",
    "        with open(new_cama, 'w') as new_file:\n",
    "            line_cama = cama_lines[ind]\n",
    "            new_file.write(line_cama.strip() + f'|{region_result}\\n')\n",
    "    else:\n",
    "        with open(new_cama, 'a') as new_file:\n",
    "            line_cama = cama_lines[ind]\n",
    "            new_file.write(line_cama.strip() + f'|{region_result}\\n')"
   ]
  },
  {
   "cell_type": "code",
   "execution_count": null,
   "id": "f69a007c-f852-4e01-9210-95883465f741",
   "metadata": {},
   "outputs": [],
   "source": []
  }
 ],
 "metadata": {
  "kernelspec": {
   "display_name": "Python 3 (ipykernel)",
   "language": "python",
   "name": "python3"
  },
  "language_info": {
   "codemirror_mode": {
    "name": "ipython",
    "version": 3
   },
   "file_extension": ".py",
   "mimetype": "text/x-python",
   "name": "python",
   "nbconvert_exporter": "python",
   "pygments_lexer": "ipython3",
   "version": "3.10.12"
  }
 },
 "nbformat": 4,
 "nbformat_minor": 5
}
