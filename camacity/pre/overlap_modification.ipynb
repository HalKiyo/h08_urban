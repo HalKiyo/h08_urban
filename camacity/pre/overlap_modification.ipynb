{
 "cells": [
  {
   "cell_type": "code",
   "execution_count": 18,
   "id": "aa9c57fc",
   "metadata": {},
   "outputs": [],
   "source": [
    "import numpy as np\n",
    "import matplotlib.pyplot as plt\n",
    "import cartopy.crs as ccrs "
   ]
  },
  {
   "cell_type": "code",
   "execution_count": 19,
   "id": "1f0b3b9f",
   "metadata": {},
   "outputs": [],
   "source": [
    "def geography(one, twho, three, four):\n",
    "    #\n",
    "    a = 2160\n",
    "    b = 4320\n",
    "    gl5shape = (a, b)\n",
    "    #\n",
    "    upperindex = (90-four)*12\n",
    "    lowerindex = (90-three)*12\n",
    "    leftindex = (180+one)*12\n",
    "    rightindex = (180+two)*12\n",
    "    #\n",
    "    rgnshape = (lowerindex-upperindex, rightindex-leftindex)\n",
    "    #\n",
    "    img_extent = (one, two, three, four)  \n",
    "    \n",
    "    return upperindex, lowerindex, leftindex, rightindex, rgnshape, img_extent"
   ]
  },
  {
   "cell_type": "code",
   "execution_count": 24,
   "id": "63084a66",
   "metadata": {},
   "outputs": [],
   "source": [
    "### to be changed ###\n",
    "\n",
    "root_dir = '/mnt/c/Users/tsimk/Downloads/dotfiles/h08'\n",
    "#name of the camacity file\n",
    "cmct_name = '/mnt/c/Users/tsimk/Downloads/dotfiles/h08/camacity/dat/cty_lst_/camacity_first.txt'\n",
    "\n",
    "#patt for the reference file\n",
    "ref_path = '/mnt/c/Users/tsimk/Downloads/dotfiles/h08/global_city/dat/vld_cty_/city_clrd0000.gl5'\n"
   ]
  },
  {
   "cell_type": "code",
   "execution_count": 25,
   "id": "e2ed33d8",
   "metadata": {},
   "outputs": [
    {
     "name": "stdout",
     "output_type": "stream",
     "text": [
      "Number of overlaped cities :  128\n"
     ]
    }
   ],
   "source": [
    "#list of overlapped cities\n",
    "\n",
    "cty_dta_ = []\n",
    "ovlp_list = []\n",
    "\n",
    "with open(cmct_name, encoding=\"utf8\") as file:\n",
    "    for line in file:\n",
    "        row = line.strip().split('|')\n",
    "        cty_dta_.append(row)\n",
    "\n",
    "for row in cty_dta_:\n",
    "    if row[1] == 'OVERLAP':\n",
    "        ovlp_list.append(int(row[0]))\n",
    "\n",
    "print('Number of overlaped cities : ',len(ovlp_list))"
   ]
  },
  {
   "cell_type": "code",
   "execution_count": null,
   "id": "ff2ad334",
   "metadata": {
    "scrolled": true
   },
   "outputs": [
    {
     "name": "stdout",
     "output_type": "stream",
     "text": [
      "overlap num 42 doing ---\n",
      "/mnt/c/Users/tsimk/Downloads/dotfiles/h08/camacity/dat/cty_msk_/city_et_00000042.gl5 saved\n",
      "overlap num 43 doing ---\n",
      "/mnt/c/Users/tsimk/Downloads/dotfiles/h08/camacity/dat/cty_msk_/city_et_00000043.gl5 saved\n",
      "overlap num 44 doing ---\n",
      "/mnt/c/Users/tsimk/Downloads/dotfiles/h08/camacity/dat/cty_msk_/city_et_00000044.gl5 saved\n",
      "overlap num 122 doing ---\n",
      "/mnt/c/Users/tsimk/Downloads/dotfiles/h08/camacity/dat/cty_msk_/city_et_00000122.gl5 saved\n",
      "overlap num 148 doing ---\n",
      "/mnt/c/Users/tsimk/Downloads/dotfiles/h08/camacity/dat/cty_msk_/city_et_00000148.gl5 saved\n",
      "overlap num 158 doing ---\n",
      "/mnt/c/Users/tsimk/Downloads/dotfiles/h08/camacity/dat/cty_msk_/city_et_00000158.gl5 saved\n",
      "overlap num 160 doing ---\n"
     ]
    }
   ],
   "source": [
    "#removal of overlapped grids\n",
    "\n",
    "ctycnt_path_ref = ref_path\n",
    "ref = np.fromfile(ctycnt_path_ref, dtype='float32').reshape(2160, 4320)\n",
    "\n",
    "for i in ovlp_list:\n",
    "    print(f'overlap num {i} doing ---')\n",
    "    \n",
    "    #removing grids\n",
    "    data = np.fromfile(f'{root_dir}/global_city/dat/vld_cty_/city_{i:08}.gl5', dtype='float32').reshape(2160, 4320)\n",
    "    for j in range(len(data)):\n",
    "        for k in range(len(data[0])):\n",
    "            if data[j,k] == 1:\n",
    "                if ref[j,k] != 0:\n",
    "                    data[j,k] = 0\n",
    "    \n",
    "    #saving\n",
    "    save_path = f'{root_dir}/camacity/dat/cty_msk_/city_et_{i:08}.gl5'\n",
    "    data.astype(np.float32).tofile(save_path)\n",
    "    print(f\"{save_path} saved\")"
   ]
  },
  {
   "cell_type": "code",
   "execution_count": null,
   "id": "53ceef47",
   "metadata": {},
   "outputs": [],
   "source": [
    "#drawings\n",
    "city_nb = 42 #Dongguan\n",
    "one = 112\n",
    "two = 116\n",
    "three = 22\n",
    "four = 24\n",
    "\n",
    "upperindex, lowerindex, leftindex, rightindex, rgnshape, img_extent = geography(one, two, three, four)\n",
    "\n",
    "#ref\n",
    "ref_path = '/mnt/c/Users/tsimk/Downloads/dotfiles/h08/global_city/dat/vld_cty_/city_clrd0000.gl5'\n",
    "ref = np.fromfile(ref_path, dtype='float32').reshape(2160, 4320)\n",
    "\n",
    "ref_cropped = ref[upperindex:lowerindex, leftindex:rightindex]\n",
    "ref_masked = np.ma.masked_where(ref_cropped==0, ref_cropped)\n",
    "\n",
    "projection = ccrs.PlateCarree()\n",
    "fig = plt.figure(figsize=(10, 10))\n",
    "ax = plt.subplot(projection=projection)\n",
    "im = ax.imshow(ref_masked,\n",
    "               extent=img_extent, transform=projection, cmap='tab20')\n",
    "ax.coastlines()\n",
    "plt.show()\n",
    "\n",
    "\n",
    "#before removal\n",
    "\n",
    "ctyclr_path = f'/mnt/c/Users/tsimk/Downloads/dotfiles/h08/global_city/dat/vld_cty_/city_{city_nb:08}.gl5'\n",
    "ctyclr_gl5 = np.fromfile(ctyclr_path, dtype='float32').reshape(2160, 4320)\n",
    "ctyclr_cropped = ctyclr_gl5[upperindex:lowerindex, leftindex:rightindex]\n",
    "ctyclr_masked = np.ma.masked_where(ctyclr_cropped==0, ctyclr_cropped)\n",
    "\n",
    "projection = ccrs.PlateCarree()\n",
    "fig = plt.figure(figsize=(10, 10))\n",
    "ax = plt.subplot(projection=projection)\n",
    "im = ax.imshow(ctyclr_masked,\n",
    "               extent=img_extent, transform=projection)\n",
    "ax.coastlines()\n",
    "plt.show()\n",
    "\n",
    "#after removal\n",
    "\n",
    "ctyclr_path = f'/mnt/c/Users/tsimk/Downloads/dotfiles/h08/camacity/dat/cty_msk_/city_et_{city_nb:08}.gl5'\n",
    "ctyclr_gl5 = np.fromfile(ctyclr_path, dtype='float32').reshape(2160, 4320)\n",
    "ctyclr_cropped = ctyclr_gl5[upperindex:lowerindex, leftindex:rightindex]\n",
    "ctyclr_masked = np.ma.masked_where(ctyclr_cropped==0, ctyclr_cropped)\n",
    "\n",
    "projection = ccrs.PlateCarree()\n",
    "fig = plt.figure(figsize=(10, 10))\n",
    "ax = plt.subplot(projection=projection)\n",
    "im = ax.imshow(ctyclr_masked,\n",
    "               extent=img_extent, transform=projection, cmap='tab20')\n",
    "ax.coastlines()\n",
    "plt.show()\n",
    "\n",
    "mod = ref + ctyclr_gl5*city_nb\n",
    "mod_cropped = mod[upperindex:lowerindex, leftindex:rightindex]\n",
    "mod_masked = np.ma.masked_where(mod_cropped==0, mod_cropped)\n",
    "\n",
    "projection = ccrs.PlateCarree()\n",
    "fig = plt.figure(figsize=(10, 10))\n",
    "ax = plt.subplot(projection=projection)\n",
    "im = ax.imshow(mod_masked,\n",
    "               extent=img_extent, transform=projection)\n",
    "ax.coastlines()\n",
    "plt.show()"
   ]
  },
  {
   "cell_type": "code",
   "execution_count": null,
   "id": "83b89f55-4744-41b0-8ea3-b65c707dbb01",
   "metadata": {},
   "outputs": [],
   "source": []
  }
 ],
 "metadata": {
  "kernelspec": {
   "display_name": "Python 3 (ipykernel)",
   "language": "python",
   "name": "python3"
  },
  "language_info": {
   "codemirror_mode": {
    "name": "ipython",
    "version": 3
   },
   "file_extension": ".py",
   "mimetype": "text/x-python",
   "name": "python",
   "nbconvert_exporter": "python",
   "pygments_lexer": "ipython3",
   "version": "3.10.12"
  }
 },
 "nbformat": 4,
 "nbformat_minor": 5
}
