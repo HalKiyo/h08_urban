{
 "cells": [
  {
   "cell_type": "code",
   "execution_count": 1,
   "id": "83be4b44-f6f4-46c2-95c0-bbf8eec94996",
   "metadata": {},
   "outputs": [],
   "source": [
    "import math\n",
    "import numpy as np\n",
    "\n",
    "\"\"\"\n",
    "cby 2010/03/31, hanasaki, NIES: H08 ver1.0\n",
    "r0lat1, r0lat2 : latitude -90.0 (south pole) to 90.0 (north pole)\n",
    "returns arealat : in m^2\n",
    "by approximated equation\n",
    "\n",
    "c       (p0lonmin,platmax)       (p0lonmax,platmax)\n",
    "c         /                         /\n",
    "c        /__________   ____________/\n",
    "c        |       |       |         |\n",
    "c        |(0,0)  |  ...  |(n0x,0)  |\n",
    "c        |_______|__   __|_________|\n",
    "c        |       |                 |\n",
    "c           .     .\n",
    "c           .       .\n",
    "c           .         .\n",
    "c        |_______|__   ____________|\n",
    "c        |       |       |         |\n",
    "c        |(0,n0y)|  ...  |(n0x,n0y)|\n",
    "c        |_______|__   __|_________|\n",
    "\"\"\"\n",
    "\n",
    "def getlon(n0x, p0lonmin, p0lonmax, i0x, c0opt):\n",
    "    if c0opt == 'east':\n",
    "        rgetlon = p0lonmin + ((p0lonmax - p0lonmin)/float(n0x)) * (float(i0x) + 1.0)\n",
    "    elif c0opt == 'west':\n",
    "        rgetlon = p0lonmin + ((p0lonmax - p0lonmin)/float(n0x)) * (float(i0x) + 0.0)\n",
    "    else:\n",
    "        rgetlon = p0lonmin + ((p0lonmax - p0lonmin)/float(n0x)) * (float(i0x) + 0.5)\n",
    "    return rgetlon\n",
    "\n",
    "def getlat(n0y, p0latmin, p0lonmax, i0y, c0opt):\n",
    "    if c0opt == 'south':\n",
    "        rgetlat = p0latmax - ((p0latmax - p0latmin)/float(n0y)) * (float(i0y) + 1.0)\n",
    "    elif c0opt == 'north':\n",
    "        rgetlat = p0latmax - ((p0latmax - p0latmin)/float(n0y)) * (float(i0y) + 0.0)\n",
    "    else:\n",
    "        rgetlat = p0latmax - ((p0latmax - p0latmin)/float(n0y)) * (float(i0y) + 0.5)\n",
    "    \n",
    "    return rgetlat\n",
    "    \n",
    "def rgetara(r0lon1, r0lon2, r0lat1, r0lat2):\n",
    "    \"\"\"\n",
    "    oki and kanae 1997 Journal of Japan society of Hydrology & Water resources\n",
    "    \"\"\"\n",
    "    p0e2 = 0.006694470 # square of the eccentricity of the Earth ellipsoid\n",
    "    p0rad = 6378137.0 # equatorial radius\n",
    "\n",
    "    r0e = math.sqrt(p0e2)\n",
    "\n",
    "    if -90.0 <= r0lat1 <= 90 or -90 <= r0lat2 <= 90:\n",
    "        r0sin1 = math.sin(r0lat1 * math.pi / 180.0)\n",
    "        r0sin2 = math.sin(r0lat2 * math.pi / 180.0)\n",
    "\n",
    "        # meridian curvature radius\n",
    "        r0fnc1 = r0sin1 * (1 + (r0e * r0sin1)**2 / 2.0)\n",
    "        r0fnc2 = r0sin2 * (1 + (r0e * r0sin2)**2 / 2.0)\n",
    "    \n",
    "        rgetara = math.pi * p0rad**2 * ((1 - r0e**2) / 180.0) * (r0fnc1 - r0fnc2) * (r0lon2 - r0lon1)\n",
    "            \n",
    "    else:\n",
    "        print(f\"rgetara: latitude out of range\")\n",
    "\n",
    "    if rgetara < 0:\n",
    "        rgetara = -1.0 * rgetara\n",
    "\n",
    "    return  rgetara\n",
    "\n",
    "def grdara(n0x, n0y, p0lonmin, p0lonmax, p0latmin, p0latmax):\n",
    "    r2tmp = np.zeros((n0y, n0x))\n",
    "    \n",
    "    for i0y in range(n0y):\n",
    "        for i0x in range(n0x):\n",
    "            r0lon1 = getlon(n0x, p0lonmin, p0lonmax, i0x, 'east')\n",
    "            r0lon2 = getlon(n0x, p0lonmin, p0lonmax, i0x, 'west')\n",
    "            r0lat1 = getlat(n0y, p0latmin, p0latmax, i0y, 'north')\n",
    "            r0lat2 = getlat(n0y, p0latmin, p0latmax, i0y, 'south')\n",
    "            r2tmp[i0y, i0x] = rgetara(r0lon1, r0lon2, r0lat1, r0lat2)\n",
    "\n",
    "    return r2tmp\n",
    "\n",
    "def save_binary(filename, data):\n",
    "    data.astype(np.float32).tofile(filename)"
   ]
  },
  {
   "cell_type": "code",
   "execution_count": 2,
   "id": "4b3e6baf-f515-4df8-9951-d66e3e258434",
   "metadata": {},
   "outputs": [],
   "source": [
    "n0x = 4320\n",
    "n0y = 2160\n",
    "p0lonmin = -180\n",
    "p0lonmax = 180\n",
    "p0latmin = -90\n",
    "p0latmax = 90\n",
    "name = 'grdara.gl5'\n",
    "path = f\"/mnt/c/Users/tsimk/Downloads/dotfiles/h08/camacity/dat/grd_ara_/{name}\"\n",
    "tmp = grdara(n0x, n0y, p0lonmin, p0lonmax, p0latmin, p0latmax)\n",
    "save_binary(path, tmp)"
   ]
  },
  {
   "cell_type": "code",
   "execution_count": 3,
   "id": "4e9ebda2-488b-47a3-a96a-12ce95de499f",
   "metadata": {},
   "outputs": [
    {
     "data": {
      "text/plain": [
       "<matplotlib.colorbar.Colorbar at 0x7fb1299ffc40>"
      ]
     },
     "execution_count": 3,
     "metadata": {},
     "output_type": "execute_result"
    },
    {
     "data": {
      "image/png": "[encoded data removed]",
      "text/plain": [
       "<Figure size 640x480 with 2 Axes>"
      ]
     },
     "metadata": {},
     "output_type": "display_data"
    }
   ],
   "source": [
    "import matplotlib.pyplot as plt\n",
    "plt.imshow(tmp)\n",
    "plt.colorbar()"
   ]
  },
  {
   "cell_type": "code",
   "execution_count": null,
   "id": "bcc54116-f510-4c1d-9fff-5a18c208dc44",
   "metadata": {},
   "outputs": [],
   "source": []
  }
 ],
 "metadata": {
  "kernelspec": {
   "display_name": "Python 3 (ipykernel)",
   "language": "python",
   "name": "python3"
  },
  "language_info": {
   "codemirror_mode": {
    "name": "ipython",
    "version": 3
   },
   "file_extension": ".py",
   "mimetype": "text/x-python",
   "name": "python",
   "nbconvert_exporter": "python",
   "pygments_lexer": "ipython3",
   "version": "3.10.12"
  }
 },
 "nbformat": 4,
 "nbformat_minor": 5
}
